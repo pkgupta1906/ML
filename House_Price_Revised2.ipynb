{
 "cells": [
  {
   "cell_type": "code",
   "execution_count": 1,
   "metadata": {},
   "outputs": [],
   "source": [
    "# Import libraries \n",
    "import numpy as np\n",
    "import pandas as pd\n",
    "import seaborn as sns\n",
    "import matplotlib.pyplot as plt\n",
    "%matplotlib inline\n",
    "\n",
    "from sklearn.model_selection import train_test_split\n",
    "from sklearn.preprocessing import Imputer\n",
    "from sklearn.preprocessing import StandardScaler\n",
    "from sklearn.linear_model import LinearRegression\n",
    "from sklearn.metrics import r2_score"
   ]
  },
  {
   "cell_type": "code",
   "execution_count": 2,
   "metadata": {},
   "outputs": [],
   "source": [
    "# Read the Train and Test data-set \n",
    "orig_train = pd.read_csv('train.csv')\n",
    "orig_test = pd.read_csv('test.csv')"
   ]
  },
  {
   "cell_type": "code",
   "execution_count": 3,
   "metadata": {},
   "outputs": [],
   "source": [
    "train = orig_train.copy()\n",
    "target = orig_train['SalePrice']\n",
    "test = orig_test.copy()"
   ]
  },
  {
   "cell_type": "code",
   "execution_count": null,
   "metadata": {},
   "outputs": [],
   "source": []
  },
  {
   "cell_type": "markdown",
   "metadata": {},
   "source": [
    "## Data Analysis"
   ]
  },
  {
   "cell_type": "code",
   "execution_count": 4,
   "metadata": {},
   "outputs": [
    {
     "name": "stdout",
     "output_type": "stream",
     "text": [
      "(1460, 81)\n",
      "(1460,)\n",
      "(1459, 80)\n"
     ]
    }
   ],
   "source": [
    "# View the dimension \n",
    "print(train.shape)\n",
    "print(target.shape)\n",
    "print(test.shape)"
   ]
  },
  {
   "cell_type": "code",
   "execution_count": 5,
   "metadata": {},
   "outputs": [],
   "source": [
    "# Train - View Columns\n",
    "#train.columns"
   ]
  },
  {
   "cell_type": "code",
   "execution_count": 6,
   "metadata": {},
   "outputs": [],
   "source": [
    "# Test - View Columns\n",
    "#test.columns"
   ]
  },
  {
   "cell_type": "code",
   "execution_count": null,
   "metadata": {},
   "outputs": [],
   "source": []
  },
  {
   "cell_type": "code",
   "execution_count": 7,
   "metadata": {},
   "outputs": [],
   "source": [
    "# Train - Summary\n",
    "#train.describe()"
   ]
  },
  {
   "cell_type": "code",
   "execution_count": 8,
   "metadata": {},
   "outputs": [],
   "source": [
    "# Test - Summary\n",
    "#test.describe()"
   ]
  },
  {
   "cell_type": "code",
   "execution_count": null,
   "metadata": {},
   "outputs": [],
   "source": []
  },
  {
   "cell_type": "code",
   "execution_count": 9,
   "metadata": {},
   "outputs": [],
   "source": [
    "# Train - Top 5 data\n",
    "#train.head()"
   ]
  },
  {
   "cell_type": "code",
   "execution_count": 10,
   "metadata": {},
   "outputs": [],
   "source": [
    "# Test - Top 5 data\n",
    "#test.head()"
   ]
  },
  {
   "cell_type": "code",
   "execution_count": null,
   "metadata": {},
   "outputs": [],
   "source": []
  },
  {
   "cell_type": "code",
   "execution_count": 11,
   "metadata": {},
   "outputs": [],
   "source": [
    "# Train - Bottom 5 data\n",
    "#train.tail()"
   ]
  },
  {
   "cell_type": "code",
   "execution_count": 12,
   "metadata": {},
   "outputs": [],
   "source": [
    "# Test - Bottom 5 data\n",
    "#test.tail()"
   ]
  },
  {
   "cell_type": "code",
   "execution_count": null,
   "metadata": {},
   "outputs": [],
   "source": []
  },
  {
   "cell_type": "code",
   "execution_count": 13,
   "metadata": {
    "scrolled": true
   },
   "outputs": [],
   "source": [
    "# Train - Info\n",
    "#train.info()"
   ]
  },
  {
   "cell_type": "code",
   "execution_count": 14,
   "metadata": {
    "scrolled": true
   },
   "outputs": [],
   "source": [
    "# Test - Info\n",
    "#test.info()"
   ]
  },
  {
   "cell_type": "code",
   "execution_count": null,
   "metadata": {},
   "outputs": [],
   "source": []
  },
  {
   "cell_type": "markdown",
   "metadata": {},
   "source": [
    "## Data Visualization"
   ]
  },
  {
   "cell_type": "code",
   "execution_count": 15,
   "metadata": {},
   "outputs": [],
   "source": [
    "# Correlation Plot\n",
    "#sns.set(style=\"white\")\n",
    "\n",
    "#corr = train.corr()\n",
    "\n",
    "#plt.figure(figsize=(13, 10))\n",
    "#sns.heatmap(corr, vmax=0.8)"
   ]
  },
  {
   "cell_type": "code",
   "execution_count": 16,
   "metadata": {},
   "outputs": [],
   "source": [
    "# High collonearity pair: 'YearBuilt and 'GarageYrBlt', 'GrLivArea' and 'TotRmsAbvGrd', '1stFlrSF and 'TotalBsmtSF'\n",
    "\n",
    "# Drop columns with high multi-collinearity\n",
    "train.drop(['GarageYrBlt', 'TotRmsAbvGrd', 'TotalBsmtSF'], axis=1, inplace=True)\n",
    "test.drop(['GarageYrBlt', 'TotRmsAbvGrd', 'TotalBsmtSF'], axis=1, inplace=True)"
   ]
  },
  {
   "cell_type": "code",
   "execution_count": null,
   "metadata": {},
   "outputs": [],
   "source": []
  },
  {
   "cell_type": "code",
   "execution_count": 17,
   "metadata": {
    "scrolled": true
   },
   "outputs": [
    {
     "name": "stdout",
     "output_type": "stream",
     "text": [
      "SalePrice       1.000000\n",
      "OverallQual     0.790982\n",
      "GrLivArea       0.708624\n",
      "GarageCars      0.640409\n",
      "GarageArea      0.623431\n",
      "1stFlrSF        0.605852\n",
      "FullBath        0.560664\n",
      "YearBuilt       0.522897\n",
      "YearRemodAdd    0.507101\n",
      "MasVnrArea      0.477493\n",
      "Name: SalePrice, dtype: float64 \n",
      "\n"
     ]
    }
   ],
   "source": [
    "# Top 5 and Bottom 5 correlated attributes\n",
    "corr = train.corr()\n",
    "print(corr['SalePrice'].sort_values(ascending=False).head(10), '\\n')"
   ]
  },
  {
   "cell_type": "code",
   "execution_count": 18,
   "metadata": {},
   "outputs": [],
   "source": [
    "#plt.figure(figsize=(10, 7))\n",
    "#sns.boxplot(x='OverallQual', y='SalePrice', data=train)"
   ]
  },
  {
   "cell_type": "code",
   "execution_count": 19,
   "metadata": {},
   "outputs": [],
   "source": [
    "#plt.scatter(x='GrLivArea', y='SalePrice', data=train, color='r')"
   ]
  },
  {
   "cell_type": "code",
   "execution_count": 20,
   "metadata": {},
   "outputs": [],
   "source": [
    "#plt.scatter(x='LotFrontage', y='SalePrice', data=train, color='r')"
   ]
  },
  {
   "cell_type": "code",
   "execution_count": 21,
   "metadata": {},
   "outputs": [
    {
     "name": "stdout",
     "output_type": "stream",
     "text": [
      "1298    5642\n",
      "523     4676\n",
      "1182    4476\n",
      "691     4316\n",
      "Name: GrLivArea, dtype: int64\n",
      "1298    313.0\n",
      "934     313.0\n",
      "Name: LotFrontage, dtype: float64\n"
     ]
    }
   ],
   "source": [
    "print(train['GrLivArea'].sort_values(ascending=False).head(4))\n",
    "print(train['LotFrontage'].sort_values(ascending=False).head(2))\n",
    "\n",
    "#print(train.shape)\n",
    "#train.drop(train.index[[1298, 523, 1182, 691, 934]], inplace=True)\n",
    "#print(train.shape)"
   ]
  },
  {
   "cell_type": "code",
   "execution_count": null,
   "metadata": {},
   "outputs": [],
   "source": []
  },
  {
   "cell_type": "code",
   "execution_count": 22,
   "metadata": {},
   "outputs": [
    {
     "name": "stderr",
     "output_type": "stream",
     "text": [
      "C:\\ProgramData\\Anaconda3\\lib\\site-packages\\matplotlib\\axes\\_axes.py:6462: UserWarning: The 'normed' kwarg is deprecated, and has been replaced by the 'density' kwarg.\n",
      "  warnings.warn(\"The 'normed' kwarg is deprecated, and has been \"\n"
     ]
    },
    {
     "data": {
      "text/plain": [
       "<matplotlib.axes._subplots.AxesSubplot at 0x1eb630c01d0>"
      ]
     },
     "execution_count": 22,
     "metadata": {},
     "output_type": "execute_result"
    },
    {
     "data": {
      "image/png": "[encoded data removed]",
      "text/plain": [
       "<Figure size 432x288 with 1 Axes>"
      ]
     },
     "metadata": {},
     "output_type": "display_data"
    }
   ],
   "source": [
    "# Target distribution\n",
    "sns.distplot(orig_train['SalePrice'])"
   ]
  },
  {
   "cell_type": "code",
   "execution_count": 23,
   "metadata": {},
   "outputs": [
    {
     "name": "stderr",
     "output_type": "stream",
     "text": [
      "C:\\ProgramData\\Anaconda3\\lib\\site-packages\\matplotlib\\axes\\_axes.py:6462: UserWarning: The 'normed' kwarg is deprecated, and has been replaced by the 'density' kwarg.\n",
      "  warnings.warn(\"The 'normed' kwarg is deprecated, and has been \"\n"
     ]
    },
    {
     "data": {
      "text/plain": [
       "<matplotlib.axes._subplots.AxesSubplot at 0x1eb630a3400>"
      ]
     },
     "execution_count": 23,
     "metadata": {},
     "output_type": "execute_result"
    },
    {
     "data": {
      "image/png": "[encoded data removed]",
      "text/plain": [
       "<Figure size 432x288 with 1 Axes>"
      ]
     },
     "metadata": {},
     "output_type": "display_data"
    }
   ],
   "source": [
    "# Log-transformation of Target\n",
    "target1 = np.log(orig_train['SalePrice'])\n",
    "#target1.skew()\n",
    "sns.distplot(target1)"
   ]
  },
  {
   "cell_type": "code",
   "execution_count": 24,
   "metadata": {
    "scrolled": true
   },
   "outputs": [],
   "source": [
    "# Histogram for all columns\n",
    "#train.hist(bins=60, figsize=(25, 25))\n",
    "#plt.show()"
   ]
  },
  {
   "cell_type": "code",
   "execution_count": null,
   "metadata": {},
   "outputs": [],
   "source": []
  },
  {
   "cell_type": "markdown",
   "metadata": {},
   "source": [
    "## Data Pre-processing"
   ]
  },
  {
   "cell_type": "code",
   "execution_count": 25,
   "metadata": {
    "scrolled": true
   },
   "outputs": [
    {
     "name": "stdout",
     "output_type": "stream",
     "text": [
      "<class 'pandas.core.frame.DataFrame'>\n",
      "RangeIndex: 1460 entries, 0 to 1459\n",
      "Data columns (total 78 columns):\n",
      "Id               1460 non-null int64\n",
      "MSSubClass       1460 non-null int64\n",
      "MSZoning         1460 non-null object\n",
      "LotFrontage      1201 non-null float64\n",
      "LotArea          1460 non-null int64\n",
      "Street           1460 non-null object\n",
      "Alley            91 non-null object\n",
      "LotShape         1460 non-null object\n",
      "LandContour      1460 non-null object\n",
      "Utilities        1460 non-null object\n",
      "LotConfig        1460 non-null object\n",
      "LandSlope        1460 non-null object\n",
      "Neighborhood     1460 non-null object\n",
      "Condition1       1460 non-null object\n",
      "Condition2       1460 non-null object\n",
      "BldgType         1460 non-null object\n",
      "HouseStyle       1460 non-null object\n",
      "OverallQual      1460 non-null int64\n",
      "OverallCond      1460 non-null int64\n",
      "YearBuilt        1460 non-null int64\n",
      "YearRemodAdd     1460 non-null int64\n",
      "RoofStyle        1460 non-null object\n",
      "RoofMatl         1460 non-null object\n",
      "Exterior1st      1460 non-null object\n",
      "Exterior2nd      1460 non-null object\n",
      "MasVnrType       1452 non-null object\n",
      "MasVnrArea       1452 non-null float64\n",
      "ExterQual        1460 non-null object\n",
      "ExterCond        1460 non-null object\n",
      "Foundation       1460 non-null object\n",
      "BsmtQual         1423 non-null object\n",
      "BsmtCond         1423 non-null object\n",
      "BsmtExposure     1422 non-null object\n",
      "BsmtFinType1     1423 non-null object\n",
      "BsmtFinSF1       1460 non-null int64\n",
      "BsmtFinType2     1422 non-null object\n",
      "BsmtFinSF2       1460 non-null int64\n",
      "BsmtUnfSF        1460 non-null int64\n",
      "Heating          1460 non-null object\n",
      "HeatingQC        1460 non-null object\n",
      "CentralAir       1460 non-null object\n",
      "Electrical       1459 non-null object\n",
      "1stFlrSF         1460 non-null int64\n",
      "2ndFlrSF         1460 non-null int64\n",
      "LowQualFinSF     1460 non-null int64\n",
      "GrLivArea        1460 non-null int64\n",
      "BsmtFullBath     1460 non-null int64\n",
      "BsmtHalfBath     1460 non-null int64\n",
      "FullBath         1460 non-null int64\n",
      "HalfBath         1460 non-null int64\n",
      "BedroomAbvGr     1460 non-null int64\n",
      "KitchenAbvGr     1460 non-null int64\n",
      "KitchenQual      1460 non-null object\n",
      "Functional       1460 non-null object\n",
      "Fireplaces       1460 non-null int64\n",
      "FireplaceQu      770 non-null object\n",
      "GarageType       1379 non-null object\n",
      "GarageFinish     1379 non-null object\n",
      "GarageCars       1460 non-null int64\n",
      "GarageArea       1460 non-null int64\n",
      "GarageQual       1379 non-null object\n",
      "GarageCond       1379 non-null object\n",
      "PavedDrive       1460 non-null object\n",
      "WoodDeckSF       1460 non-null int64\n",
      "OpenPorchSF      1460 non-null int64\n",
      "EnclosedPorch    1460 non-null int64\n",
      "3SsnPorch        1460 non-null int64\n",
      "ScreenPorch      1460 non-null int64\n",
      "PoolArea         1460 non-null int64\n",
      "PoolQC           7 non-null object\n",
      "Fence            281 non-null object\n",
      "MiscFeature      54 non-null object\n",
      "MiscVal          1460 non-null int64\n",
      "MoSold           1460 non-null int64\n",
      "YrSold           1460 non-null int64\n",
      "SaleType         1460 non-null object\n",
      "SaleCondition    1460 non-null object\n",
      "SalePrice        1460 non-null int64\n",
      "dtypes: float64(2), int64(33), object(43)\n",
      "memory usage: 889.8+ KB\n"
     ]
    }
   ],
   "source": [
    "# Train - Summary\n",
    "train.info()"
   ]
  },
  {
   "cell_type": "code",
   "execution_count": 26,
   "metadata": {
    "scrolled": true
   },
   "outputs": [
    {
     "name": "stdout",
     "output_type": "stream",
     "text": [
      "Id               1460\n",
      "LotArea          1073\n",
      "GrLivArea         861\n",
      "BsmtUnfSF         780\n",
      "1stFlrSF          753\n",
      "SalePrice         663\n",
      "BsmtFinSF1        637\n",
      "GarageArea        441\n",
      "2ndFlrSF          417\n",
      "MasVnrArea        327\n",
      "WoodDeckSF        274\n",
      "OpenPorchSF       202\n",
      "BsmtFinSF2        144\n",
      "EnclosedPorch     120\n",
      "YearBuilt         112\n",
      "LotFrontage       110\n",
      "ScreenPorch        76\n",
      "YearRemodAdd       61\n",
      "Neighborhood       25\n",
      "LowQualFinSF       24\n",
      "MiscVal            21\n",
      "3SsnPorch          20\n",
      "Exterior2nd        16\n",
      "Exterior1st        15\n",
      "MSSubClass         15\n",
      "MoSold             12\n",
      "OverallQual        10\n",
      "OverallCond         9\n",
      "Condition1          9\n",
      "SaleType            9\n",
      "                 ... \n",
      "GarageQual          5\n",
      "Electrical          5\n",
      "ExterCond           5\n",
      "GarageCond          5\n",
      "MSZoning            5\n",
      "HeatingQC           5\n",
      "KitchenQual         4\n",
      "LandContour         4\n",
      "LotShape            4\n",
      "Fence               4\n",
      "Fireplaces          4\n",
      "KitchenAbvGr        4\n",
      "MasVnrType          4\n",
      "BsmtExposure        4\n",
      "BsmtCond            4\n",
      "BsmtQual            4\n",
      "ExterQual           4\n",
      "MiscFeature         4\n",
      "BsmtFullBath        4\n",
      "FullBath            4\n",
      "LandSlope           3\n",
      "HalfBath            3\n",
      "GarageFinish        3\n",
      "BsmtHalfBath        3\n",
      "PavedDrive          3\n",
      "PoolQC              3\n",
      "CentralAir          2\n",
      "Alley               2\n",
      "Street              2\n",
      "Utilities           2\n",
      "Length: 78, dtype: int64\n",
      "Dimension Before:  (1460, 78)\n",
      "Dimension After :  (1460, 76)\n"
     ]
    }
   ],
   "source": [
    "# Train - drop unnecessay columns with all unique values\n",
    "print(train.iloc[:,:].nunique().sort_values(ascending=False))\n",
    "\n",
    "print('Dimension Before: ', train.shape)\n",
    "\n",
    "train.drop(['Id'], axis=1, inplace=True)\n",
    "train.drop(['SalePrice'], axis=1, inplace=True)\n",
    "\n",
    "print('Dimension After : ', train.shape)"
   ]
  },
  {
   "cell_type": "code",
   "execution_count": 27,
   "metadata": {
    "scrolled": true
   },
   "outputs": [
    {
     "name": "stdout",
     "output_type": "stream",
     "text": [
      "Id               1459\n",
      "LotArea          1106\n",
      "GrLivArea         879\n",
      "BsmtUnfSF         793\n",
      "1stFlrSF          789\n",
      "BsmtFinSF1        669\n",
      "GarageArea        459\n",
      "2ndFlrSF          407\n",
      "MasVnrArea        303\n",
      "WoodDeckSF        263\n",
      "OpenPorchSF       203\n",
      "BsmtFinSF2        161\n",
      "EnclosedPorch     131\n",
      "LotFrontage       115\n",
      "YearBuilt         106\n",
      "ScreenPorch        75\n",
      "YearRemodAdd       61\n",
      "MiscVal            26\n",
      "Neighborhood       25\n",
      "MSSubClass         16\n",
      "LowQualFinSF       15\n",
      "Exterior2nd        15\n",
      "Exterior1st        13\n",
      "3SsnPorch          13\n",
      "MoSold             12\n",
      "OverallQual        10\n",
      "SaleType            9\n",
      "OverallCond         9\n",
      "Condition1          9\n",
      "BedroomAbvGr        7\n",
      "                 ... \n",
      "FullBath            5\n",
      "MSZoning            5\n",
      "YrSold              5\n",
      "LotConfig           5\n",
      "LandContour         4\n",
      "LotShape            4\n",
      "Fence               4\n",
      "GarageQual          4\n",
      "Heating             4\n",
      "RoofMatl            4\n",
      "BsmtCond            4\n",
      "Electrical          4\n",
      "BsmtFullBath        4\n",
      "BsmtExposure        4\n",
      "BsmtQual            4\n",
      "ExterQual           4\n",
      "MasVnrType          4\n",
      "KitchenQual         4\n",
      "HalfBath            3\n",
      "PavedDrive          3\n",
      "LandSlope           3\n",
      "KitchenAbvGr        3\n",
      "BsmtHalfBath        3\n",
      "MiscFeature         3\n",
      "GarageFinish        3\n",
      "PoolQC              2\n",
      "CentralAir          2\n",
      "Alley               2\n",
      "Street              2\n",
      "Utilities           1\n",
      "Length: 77, dtype: int64\n",
      "Dimension Before:  (1459, 77)\n",
      "Dimension After :  (1459, 76)\n"
     ]
    }
   ],
   "source": [
    "# Test - drop unnecessay columns with all unique values\n",
    "print(test.iloc[:,:].nunique().sort_values(ascending=False))\n",
    "\n",
    "print('Dimension Before: ', test.shape)\n",
    "\n",
    "test.drop(['Id'], axis=1, inplace=True)\n",
    "\n",
    "print('Dimension After : ', test.shape)"
   ]
  },
  {
   "cell_type": "code",
   "execution_count": null,
   "metadata": {},
   "outputs": [],
   "source": []
  },
  {
   "cell_type": "code",
   "execution_count": null,
   "metadata": {},
   "outputs": [],
   "source": []
  },
  {
   "cell_type": "code",
   "execution_count": 28,
   "metadata": {},
   "outputs": [],
   "source": [
    "# Replace NA with None values in Train and Test dataset\n",
    "replaceNAWithNone = ['Alley' ,'BsmtQual', 'BsmtCond', 'BsmtExposure', 'BsmtFinType1', 'BsmtFinType2', 'GarageType',\n",
    "                       'FireplaceQu', 'GarageFinish', 'GarageQual', 'GarageCond', 'PoolQC', 'Fence', 'MiscFeature']\n",
    "\n",
    "train[replaceNAWithNone] = pd.DataFrame(train[replaceNAWithNone].apply(lambda x : x.fillna('None')))\n",
    "\n",
    "test[replaceNAWithNone] = pd.DataFrame(test[replaceNAWithNone].apply(lambda x : x.fillna('None')))"
   ]
  },
  {
   "cell_type": "code",
   "execution_count": null,
   "metadata": {
    "scrolled": true
   },
   "outputs": [],
   "source": []
  },
  {
   "cell_type": "code",
   "execution_count": 29,
   "metadata": {
    "scrolled": true
   },
   "outputs": [],
   "source": [
    "# Train - Check null values\n",
    "#train_na = train.isna().sum()*100/train.isna().count()\n",
    "#print(train_na.sort_values(ascending=False))\n",
    "\n",
    "#print('Dimension Before: ', train.shape)\n",
    "\n",
    "# Drop columns with more NA values\n",
    "#train.drop(['Alley', 'PoolQC', 'MiscFeature', 'Fence', 'FireplaceQu'], axis=1, inplace=True)\n",
    "\n",
    "#print('Dimension After : ', train.shape)"
   ]
  },
  {
   "cell_type": "code",
   "execution_count": 30,
   "metadata": {
    "scrolled": true
   },
   "outputs": [],
   "source": [
    "# Test - Check null values\n",
    "#test_na = test.isna().sum()*100/test.isna().count()\n",
    "#print(test_na.sort_values(ascending=False))\n",
    "\n",
    "#print('Dimension Before: ', test.shape)\n",
    "\n",
    "# Drop columns with more NA values\n",
    "#test.drop(['Alley', 'PoolQC', 'MiscFeature', 'Fence', 'FireplaceQu'], axis=1, inplace=True)\n",
    "\n",
    "#print('Dimension After : ', test.shape)"
   ]
  },
  {
   "cell_type": "code",
   "execution_count": null,
   "metadata": {},
   "outputs": [],
   "source": []
  },
  {
   "cell_type": "code",
   "execution_count": 31,
   "metadata": {},
   "outputs": [],
   "source": [
    "# Convert Integer into Categorical attribute\n",
    "numToCatAttributes = ['MSSubClass', 'BsmtFullBath', 'BsmtHalfBath', 'FullBath', 'HalfBath', 'BedroomAbvGr', 'KitchenAbvGr', \n",
    "                       'Fireplaces', 'GarageCars', 'MoSold', 'OverallCond', 'OverallQual']"
   ]
  },
  {
   "cell_type": "code",
   "execution_count": 32,
   "metadata": {
    "scrolled": true
   },
   "outputs": [
    {
     "data": {
      "text/plain": [
       "MSSubClass      category\n",
       "BsmtFullBath    category\n",
       "BsmtHalfBath    category\n",
       "FullBath        category\n",
       "HalfBath        category\n",
       "BedroomAbvGr    category\n",
       "KitchenAbvGr    category\n",
       "Fireplaces      category\n",
       "GarageCars      category\n",
       "MoSold          category\n",
       "OverallCond     category\n",
       "OverallQual     category\n",
       "dtype: object"
      ]
     },
     "execution_count": 32,
     "metadata": {},
     "output_type": "execute_result"
    }
   ],
   "source": [
    "# Train\n",
    "train[numToCatAttributes] = train[numToCatAttributes].astype('category')\n",
    "train[numToCatAttributes].dtypes"
   ]
  },
  {
   "cell_type": "code",
   "execution_count": 33,
   "metadata": {
    "scrolled": true
   },
   "outputs": [
    {
     "data": {
      "text/plain": [
       "MSSubClass      category\n",
       "BsmtFullBath    category\n",
       "BsmtHalfBath    category\n",
       "FullBath        category\n",
       "HalfBath        category\n",
       "BedroomAbvGr    category\n",
       "KitchenAbvGr    category\n",
       "Fireplaces      category\n",
       "GarageCars      category\n",
       "MoSold          category\n",
       "OverallCond     category\n",
       "OverallQual     category\n",
       "dtype: object"
      ]
     },
     "execution_count": 33,
     "metadata": {},
     "output_type": "execute_result"
    }
   ],
   "source": [
    "# Test\n",
    "test[numToCatAttributes] = test[numToCatAttributes].astype('category')\n",
    "test[numToCatAttributes].dtypes"
   ]
  },
  {
   "cell_type": "code",
   "execution_count": null,
   "metadata": {},
   "outputs": [],
   "source": []
  },
  {
   "cell_type": "code",
   "execution_count": 34,
   "metadata": {},
   "outputs": [
    {
     "name": "stdout",
     "output_type": "stream",
     "text": [
      "0     15\n",
      "1     42\n",
      "2     17\n",
      "3    103\n",
      "4     18\n",
      "Name: Const_Age, dtype: int64\n",
      "------------------------- \n",
      "\n",
      "0    15\n",
      "1    42\n",
      "2    16\n",
      "3    48\n",
      "4    18\n",
      "Name: Remod_Age, dtype: int64\n",
      "------------------------- \n",
      "\n",
      "0    10\n",
      "1    11\n",
      "2    10\n",
      "3    12\n",
      "4    10\n",
      "Name: Sold_Age, dtype: int64\n",
      "Const_Age    int64\n",
      "Remod_Age    int64\n",
      "Sold_Age     int64\n",
      "dtype: object\n"
     ]
    }
   ],
   "source": [
    "### Train - To calculate Age from YearBuilt and YearRemodAdd \n",
    "from datetime import date\n",
    "current_year = date.today().year\n",
    "\n",
    "# YearBuilt alternative\n",
    "train['Const_Age'] = current_year - train.YearBuilt\n",
    "print(train['Const_Age'].head())\n",
    "\n",
    "print('------------------------- \\n')\n",
    "\n",
    "# YearRemodAdd alternative\n",
    "train['Remod_Age'] = current_year - train.YearRemodAdd\n",
    "print(train['Remod_Age'].head())\n",
    "\n",
    "print('------------------------- \\n')\n",
    "\n",
    "# YearRemodAdd alternative\n",
    "train['Sold_Age'] = current_year - train.YrSold\n",
    "print(train['Sold_Age'].head())\n",
    "\n",
    "train.drop(['YearBuilt', 'YearRemodAdd', 'YrSold'], axis=1, inplace=True)\n",
    "print(train[['Const_Age', 'Remod_Age', 'Sold_Age']].dtypes)"
   ]
  },
  {
   "cell_type": "code",
   "execution_count": 35,
   "metadata": {},
   "outputs": [
    {
     "name": "stdout",
     "output_type": "stream",
     "text": [
      "0    57\n",
      "1    60\n",
      "2    21\n",
      "3    20\n",
      "4    26\n",
      "Name: Const_Age, dtype: int64\n",
      "------------------------- \n",
      "\n",
      "0    57\n",
      "1    60\n",
      "2    20\n",
      "3    20\n",
      "4    26\n",
      "Name: Remod_Age, dtype: int64\n",
      "------------------------- \n",
      "\n",
      "0    8\n",
      "1    8\n",
      "2    8\n",
      "3    8\n",
      "4    8\n",
      "Name: Sold_Age, dtype: int64\n",
      "Const_Age    int64\n",
      "Remod_Age    int64\n",
      "Sold_Age     int64\n",
      "dtype: object\n"
     ]
    }
   ],
   "source": [
    "### Test - To calculate Age from YearBuilt and YearRemodAdd \n",
    "from datetime import date\n",
    "current_year = date.today().year\n",
    "\n",
    "# YearBuilt alternative\n",
    "test['Const_Age'] = current_year - test.YearBuilt\n",
    "print(test['Const_Age'].head())\n",
    "\n",
    "print('------------------------- \\n')\n",
    "\n",
    "# YearRemodAdd alternative\n",
    "test['Remod_Age'] = current_year - test.YearRemodAdd\n",
    "print(test['Remod_Age'].head())\n",
    "\n",
    "print('------------------------- \\n')\n",
    "\n",
    "# YearRemodAdd alternative\n",
    "test['Sold_Age'] = current_year - test.YrSold\n",
    "print(test['Sold_Age'].head())\n",
    "\n",
    "test.drop(['YearBuilt', 'YearRemodAdd', 'YrSold'], axis=1, inplace=True)\n",
    "print(test[['Const_Age', 'Remod_Age', 'Sold_Age']].dtypes)"
   ]
  },
  {
   "cell_type": "code",
   "execution_count": null,
   "metadata": {},
   "outputs": [],
   "source": []
  },
  {
   "cell_type": "code",
   "execution_count": 36,
   "metadata": {},
   "outputs": [],
   "source": [
    "# Identifying features where a class is over 97% represented\n",
    "#low_var_cat = [col for col in train.select_dtypes(exclude=['number']) if 1 - sum(train[col] == train[col].mode())/len(train) < 0.03]\n",
    "#low_var_cat"
   ]
  },
  {
   "cell_type": "code",
   "execution_count": null,
   "metadata": {},
   "outputs": [],
   "source": []
  },
  {
   "cell_type": "code",
   "execution_count": 125,
   "metadata": {
    "scrolled": false
   },
   "outputs": [
    {
     "name": "stdout",
     "output_type": "stream",
     "text": [
      "Categorical Attributes: \n",
      " Index(['MSSubClass', 'MSZoning', 'Street', 'Alley', 'LotShape', 'LandContour',\n",
      "       'Utilities', 'LotConfig', 'LandSlope', 'Neighborhood', 'Condition1',\n",
      "       'Condition2', 'BldgType', 'HouseStyle', 'OverallQual', 'OverallCond',\n",
      "       'RoofStyle', 'RoofMatl', 'Exterior1st', 'Exterior2nd', 'MasVnrType',\n",
      "       'ExterQual', 'ExterCond', 'Foundation', 'BsmtQual', 'BsmtCond',\n",
      "       'BsmtExposure', 'BsmtFinType1', 'BsmtFinType2', 'Heating', 'HeatingQC',\n",
      "       'CentralAir', 'Electrical', 'BsmtFullBath', 'BsmtHalfBath', 'FullBath',\n",
      "       'HalfBath', 'BedroomAbvGr', 'KitchenAbvGr', 'KitchenQual', 'Functional',\n",
      "       'Fireplaces', 'FireplaceQu', 'GarageType', 'GarageFinish', 'GarageCars',\n",
      "       'GarageQual', 'GarageCond', 'PavedDrive', 'PoolQC', 'Fence',\n",
      "       'MiscFeature', 'MoSold', 'SaleType', 'SaleCondition'],\n",
      "      dtype='object')\n",
      "Numerical Attributes: \n",
      " Index(['1stFlrSF', '2ndFlrSF', '3SsnPorch', 'BsmtFinSF1', 'BsmtFinSF2',\n",
      "       'BsmtUnfSF', 'Const_Age', 'EnclosedPorch', 'GarageArea', 'GrLivArea',\n",
      "       'LotArea', 'LotFrontage', 'LowQualFinSF', 'MasVnrArea', 'MiscVal',\n",
      "       'OpenPorchSF', 'PoolArea', 'Remod_Age', 'ScreenPorch', 'Sold_Age',\n",
      "       'WoodDeckSF'],\n",
      "      dtype='object')\n"
     ]
    }
   ],
   "source": [
    "# Train - Seperate Categorical and Numeric data\n",
    "cat_label = train.dtypes[(train.dtypes == 'category') | (train.dtypes == 'object')].index\n",
    "print('Categorical Attributes: \\n', cat_label)\n",
    "\n",
    "num_label = train.columns.difference(cat_label)\n",
    "print('Numerical Attributes: \\n', num_label)"
   ]
  },
  {
   "cell_type": "code",
   "execution_count": null,
   "metadata": {},
   "outputs": [],
   "source": []
  },
  {
   "cell_type": "code",
   "execution_count": 126,
   "metadata": {
    "scrolled": true
   },
   "outputs": [
    {
     "name": "stdout",
     "output_type": "stream",
     "text": [
      "Before: \n",
      " 1stFlrSF         0\n",
      "2ndFlrSF         0\n",
      "3SsnPorch        0\n",
      "BsmtFinSF1       0\n",
      "BsmtFinSF2       0\n",
      "BsmtUnfSF        0\n",
      "Const_Age        0\n",
      "EnclosedPorch    0\n",
      "GarageArea       0\n",
      "GrLivArea        0\n",
      "LotArea          0\n",
      "LotFrontage      0\n",
      "LowQualFinSF     0\n",
      "MasVnrArea       0\n",
      "MiscVal          0\n",
      "OpenPorchSF      0\n",
      "PoolArea         0\n",
      "Remod_Age        0\n",
      "ScreenPorch      0\n",
      "Sold_Age         0\n",
      "WoodDeckSF       0\n",
      "dtype: int64\n",
      "------------------------------\n",
      "After : \n",
      " 1stFlrSF         0\n",
      "2ndFlrSF         0\n",
      "3SsnPorch        0\n",
      "BsmtFinSF1       0\n",
      "BsmtFinSF2       0\n",
      "BsmtUnfSF        0\n",
      "Const_Age        0\n",
      "EnclosedPorch    0\n",
      "GarageArea       0\n",
      "GrLivArea        0\n",
      "LotArea          0\n",
      "LotFrontage      0\n",
      "LowQualFinSF     0\n",
      "MasVnrArea       0\n",
      "MiscVal          0\n",
      "OpenPorchSF      0\n",
      "PoolArea         0\n",
      "Remod_Age        0\n",
      "ScreenPorch      0\n",
      "Sold_Age         0\n",
      "WoodDeckSF       0\n",
      "dtype: int64\n"
     ]
    }
   ],
   "source": [
    "# Train - Impute the Numerical with MEDIAN Value\n",
    "print('Before: \\n', train[num_label].isna().sum(axis=0))\n",
    "\n",
    "print('------------------------------')\n",
    "\n",
    "median_imputer = Imputer(strategy='median', axis=0)\n",
    "train[num_label] = pd.DataFrame(median_imputer.fit_transform(train[num_label]), columns=train[num_label].columns)\n",
    "train[num_label] = train[num_label].astype(int)\n",
    "\n",
    "print('After : \\n', train[num_label].isna().sum(axis=0))"
   ]
  },
  {
   "cell_type": "code",
   "execution_count": 127,
   "metadata": {
    "scrolled": true
   },
   "outputs": [
    {
     "name": "stdout",
     "output_type": "stream",
     "text": [
      "Before: \n",
      " 1stFlrSF         0\n",
      "2ndFlrSF         0\n",
      "3SsnPorch        0\n",
      "BsmtFinSF1       0\n",
      "BsmtFinSF2       0\n",
      "BsmtUnfSF        0\n",
      "Const_Age        0\n",
      "EnclosedPorch    0\n",
      "GarageArea       0\n",
      "GrLivArea        0\n",
      "LotArea          0\n",
      "LotFrontage      0\n",
      "LowQualFinSF     0\n",
      "MasVnrArea       0\n",
      "MiscVal          0\n",
      "OpenPorchSF      0\n",
      "PoolArea         0\n",
      "Remod_Age        0\n",
      "ScreenPorch      0\n",
      "Sold_Age         0\n",
      "WoodDeckSF       0\n",
      "dtype: int64\n",
      "------------------------------\n",
      "After : \n",
      " 1stFlrSF         0\n",
      "2ndFlrSF         0\n",
      "3SsnPorch        0\n",
      "BsmtFinSF1       0\n",
      "BsmtFinSF2       0\n",
      "BsmtUnfSF        0\n",
      "Const_Age        0\n",
      "EnclosedPorch    0\n",
      "GarageArea       0\n",
      "GrLivArea        0\n",
      "LotArea          0\n",
      "LotFrontage      0\n",
      "LowQualFinSF     0\n",
      "MasVnrArea       0\n",
      "MiscVal          0\n",
      "OpenPorchSF      0\n",
      "PoolArea         0\n",
      "Remod_Age        0\n",
      "ScreenPorch      0\n",
      "Sold_Age         0\n",
      "WoodDeckSF       0\n",
      "dtype: int64\n"
     ]
    }
   ],
   "source": [
    "# Test - Impute the Numerical with MEDIAN Value\n",
    "print('Before: \\n', test[num_label].isna().sum(axis=0))\n",
    "\n",
    "print('------------------------------')\n",
    "\n",
    "median_imputer = Imputer(strategy='median', axis=0)\n",
    "test[num_label] = pd.DataFrame(median_imputer.fit_transform(test[num_label]), columns=test[num_label].columns)\n",
    "test[num_label] = test[num_label].astype(int)\n",
    "\n",
    "print('After : \\n', test[num_label].isna().sum(axis=0))"
   ]
  },
  {
   "cell_type": "code",
   "execution_count": null,
   "metadata": {},
   "outputs": [],
   "source": []
  },
  {
   "cell_type": "code",
   "execution_count": 128,
   "metadata": {
    "scrolled": true
   },
   "outputs": [
    {
     "name": "stdout",
     "output_type": "stream",
     "text": [
      "Before: \n",
      " MSSubClass       0\n",
      "MSZoning         0\n",
      "Street           0\n",
      "Alley            0\n",
      "LotShape         0\n",
      "LandContour      0\n",
      "Utilities        0\n",
      "LotConfig        0\n",
      "LandSlope        0\n",
      "Neighborhood     0\n",
      "Condition1       0\n",
      "Condition2       0\n",
      "BldgType         0\n",
      "HouseStyle       0\n",
      "OverallQual      0\n",
      "OverallCond      0\n",
      "RoofStyle        0\n",
      "RoofMatl         0\n",
      "Exterior1st      0\n",
      "Exterior2nd      0\n",
      "MasVnrType       0\n",
      "ExterQual        0\n",
      "ExterCond        0\n",
      "Foundation       0\n",
      "BsmtQual         0\n",
      "BsmtCond         0\n",
      "BsmtExposure     0\n",
      "BsmtFinType1     0\n",
      "BsmtFinType2     0\n",
      "Heating          0\n",
      "HeatingQC        0\n",
      "CentralAir       0\n",
      "Electrical       0\n",
      "BsmtFullBath     0\n",
      "BsmtHalfBath     0\n",
      "FullBath         0\n",
      "HalfBath         0\n",
      "BedroomAbvGr     0\n",
      "KitchenAbvGr     0\n",
      "KitchenQual      0\n",
      "Functional       0\n",
      "Fireplaces       0\n",
      "FireplaceQu      0\n",
      "GarageType       0\n",
      "GarageFinish     0\n",
      "GarageCars       0\n",
      "GarageQual       0\n",
      "GarageCond       0\n",
      "PavedDrive       0\n",
      "PoolQC           0\n",
      "Fence            0\n",
      "MiscFeature      0\n",
      "MoSold           0\n",
      "SaleType         0\n",
      "SaleCondition    0\n",
      "dtype: int64\n",
      "----------------------\n",
      "After: \n",
      " MSSubClass       0\n",
      "MSZoning         0\n",
      "Street           0\n",
      "Alley            0\n",
      "LotShape         0\n",
      "LandContour      0\n",
      "Utilities        0\n",
      "LotConfig        0\n",
      "LandSlope        0\n",
      "Neighborhood     0\n",
      "Condition1       0\n",
      "Condition2       0\n",
      "BldgType         0\n",
      "HouseStyle       0\n",
      "OverallQual      0\n",
      "OverallCond      0\n",
      "RoofStyle        0\n",
      "RoofMatl         0\n",
      "Exterior1st      0\n",
      "Exterior2nd      0\n",
      "MasVnrType       0\n",
      "ExterQual        0\n",
      "ExterCond        0\n",
      "Foundation       0\n",
      "BsmtQual         0\n",
      "BsmtCond         0\n",
      "BsmtExposure     0\n",
      "BsmtFinType1     0\n",
      "BsmtFinType2     0\n",
      "Heating          0\n",
      "HeatingQC        0\n",
      "CentralAir       0\n",
      "Electrical       0\n",
      "BsmtFullBath     0\n",
      "BsmtHalfBath     0\n",
      "FullBath         0\n",
      "HalfBath         0\n",
      "BedroomAbvGr     0\n",
      "KitchenAbvGr     0\n",
      "KitchenQual      0\n",
      "Functional       0\n",
      "Fireplaces       0\n",
      "FireplaceQu      0\n",
      "GarageType       0\n",
      "GarageFinish     0\n",
      "GarageCars       0\n",
      "GarageQual       0\n",
      "GarageCond       0\n",
      "PavedDrive       0\n",
      "PoolQC           0\n",
      "Fence            0\n",
      "MiscFeature      0\n",
      "MoSold           0\n",
      "SaleType         0\n",
      "SaleCondition    0\n",
      "dtype: int64\n"
     ]
    }
   ],
   "source": [
    "# Train - Impute the Categorical with MODE value\n",
    "print('Before: \\n', train[cat_label].isna().sum(axis=0))\n",
    "\n",
    "print('----------------------')\n",
    "\n",
    "train[cat_label] = pd.DataFrame(train[cat_label].apply(lambda x: x.fillna(x.mode()[0]), axis=0))\n",
    "\n",
    "print('After: \\n', train[cat_label].isna().sum(axis=0))"
   ]
  },
  {
   "cell_type": "code",
   "execution_count": 129,
   "metadata": {
    "scrolled": true
   },
   "outputs": [
    {
     "name": "stdout",
     "output_type": "stream",
     "text": [
      "Before: \n",
      " MSSubClass       0\n",
      "MSZoning         0\n",
      "Street           0\n",
      "Alley            0\n",
      "LotShape         0\n",
      "LandContour      0\n",
      "Utilities        0\n",
      "LotConfig        0\n",
      "LandSlope        0\n",
      "Neighborhood     0\n",
      "Condition1       0\n",
      "Condition2       0\n",
      "BldgType         0\n",
      "HouseStyle       0\n",
      "OverallQual      0\n",
      "OverallCond      0\n",
      "RoofStyle        0\n",
      "RoofMatl         0\n",
      "Exterior1st      0\n",
      "Exterior2nd      0\n",
      "MasVnrType       0\n",
      "ExterQual        0\n",
      "ExterCond        0\n",
      "Foundation       0\n",
      "BsmtQual         0\n",
      "BsmtCond         0\n",
      "BsmtExposure     0\n",
      "BsmtFinType1     0\n",
      "BsmtFinType2     0\n",
      "Heating          0\n",
      "HeatingQC        0\n",
      "CentralAir       0\n",
      "Electrical       0\n",
      "BsmtFullBath     0\n",
      "BsmtHalfBath     0\n",
      "FullBath         0\n",
      "HalfBath         0\n",
      "BedroomAbvGr     0\n",
      "KitchenAbvGr     0\n",
      "KitchenQual      0\n",
      "Functional       0\n",
      "Fireplaces       0\n",
      "FireplaceQu      0\n",
      "GarageType       0\n",
      "GarageFinish     0\n",
      "GarageCars       0\n",
      "GarageQual       0\n",
      "GarageCond       0\n",
      "PavedDrive       0\n",
      "PoolQC           0\n",
      "Fence            0\n",
      "MiscFeature      0\n",
      "MoSold           0\n",
      "SaleType         0\n",
      "SaleCondition    0\n",
      "dtype: int64\n",
      "----------------------\n",
      "After: \n",
      " MSSubClass       0\n",
      "MSZoning         0\n",
      "Street           0\n",
      "Alley            0\n",
      "LotShape         0\n",
      "LandContour      0\n",
      "Utilities        0\n",
      "LotConfig        0\n",
      "LandSlope        0\n",
      "Neighborhood     0\n",
      "Condition1       0\n",
      "Condition2       0\n",
      "BldgType         0\n",
      "HouseStyle       0\n",
      "OverallQual      0\n",
      "OverallCond      0\n",
      "RoofStyle        0\n",
      "RoofMatl         0\n",
      "Exterior1st      0\n",
      "Exterior2nd      0\n",
      "MasVnrType       0\n",
      "ExterQual        0\n",
      "ExterCond        0\n",
      "Foundation       0\n",
      "BsmtQual         0\n",
      "BsmtCond         0\n",
      "BsmtExposure     0\n",
      "BsmtFinType1     0\n",
      "BsmtFinType2     0\n",
      "Heating          0\n",
      "HeatingQC        0\n",
      "CentralAir       0\n",
      "Electrical       0\n",
      "BsmtFullBath     0\n",
      "BsmtHalfBath     0\n",
      "FullBath         0\n",
      "HalfBath         0\n",
      "BedroomAbvGr     0\n",
      "KitchenAbvGr     0\n",
      "KitchenQual      0\n",
      "Functional       0\n",
      "Fireplaces       0\n",
      "FireplaceQu      0\n",
      "GarageType       0\n",
      "GarageFinish     0\n",
      "GarageCars       0\n",
      "GarageQual       0\n",
      "GarageCond       0\n",
      "PavedDrive       0\n",
      "PoolQC           0\n",
      "Fence            0\n",
      "MiscFeature      0\n",
      "MoSold           0\n",
      "SaleType         0\n",
      "SaleCondition    0\n",
      "dtype: int64\n"
     ]
    }
   ],
   "source": [
    "# Test - Impute the Categorical with Mode\n",
    "print('Before: \\n', test[cat_label].isna().sum(axis=0))\n",
    "\n",
    "print('----------------------')\n",
    "\n",
    "test[cat_label] = pd.DataFrame(test[cat_label].apply(lambda x: x.fillna(x.mode()[0]), axis=0))\n",
    "\n",
    "print('After: \\n', test[cat_label].isna().sum(axis=0))"
   ]
  },
  {
   "cell_type": "code",
   "execution_count": null,
   "metadata": {},
   "outputs": [],
   "source": []
  },
  {
   "cell_type": "code",
   "execution_count": 130,
   "metadata": {},
   "outputs": [
    {
     "name": "stdout",
     "output_type": "stream",
     "text": [
      "  GarageCars\n",
      "0          1\n",
      "1          1\n",
      "2          2\n",
      "3          2\n",
      "4          2\n",
      "  BsmtFullBath\n",
      "0            0\n",
      "1            0\n",
      "2            0\n",
      "3            0\n",
      "4            0\n",
      "  BsmtHalfBath\n",
      "0            0\n",
      "1            0\n",
      "2            0\n",
      "3            0\n",
      "4            0\n"
     ]
    }
   ],
   "source": [
    "# Train - Correct formatting of some attributes\n",
    "test[['GarageCars']] = test[['GarageCars']].astype(int)\n",
    "test[['GarageCars']] = test[['GarageCars']].astype('category')\n",
    "print(test[['GarageCars']].head())\n",
    "\n",
    "test[['BsmtFullBath']] = test[['BsmtFullBath']].astype(int)\n",
    "test[['BsmtFullBath']] = test[['BsmtFullBath']].astype('category')\n",
    "print(test[['BsmtFullBath']].head())\n",
    "\n",
    "test[['BsmtHalfBath']] = test[['BsmtHalfBath']].astype(int)\n",
    "test[['BsmtHalfBath']] = test[['BsmtHalfBath']].astype('category')\n",
    "print(test[['BsmtHalfBath']].head())"
   ]
  },
  {
   "cell_type": "code",
   "execution_count": null,
   "metadata": {},
   "outputs": [],
   "source": []
  },
  {
   "cell_type": "code",
   "execution_count": 131,
   "metadata": {},
   "outputs": [
    {
     "name": "stdout",
     "output_type": "stream",
     "text": [
      "(1460, 313)\n"
     ]
    }
   ],
   "source": [
    "# Train - Dummyfication of Categorical attributes\n",
    "final_train = pd.get_dummies(train, drop_first=True)\n",
    "print(final_train.shape)"
   ]
  },
  {
   "cell_type": "code",
   "execution_count": 132,
   "metadata": {},
   "outputs": [
    {
     "name": "stdout",
     "output_type": "stream",
     "text": [
      "(1459, 297)\n"
     ]
    }
   ],
   "source": [
    "# Test - Dummyfication of Categorical attributes\n",
    "final_test = pd.get_dummies(test, drop_first=True)\n",
    "print(final_test.shape)"
   ]
  },
  {
   "cell_type": "code",
   "execution_count": 133,
   "metadata": {},
   "outputs": [],
   "source": [
    "# Train - Dummyfication of Categorical attributes\n",
    "#print(cat_train.shape)\n",
    "\n",
    "#cat_train_dummy = pd.get_dummies(cat_train, drop_first=True)\n",
    "\n",
    "#print(cat_train_dummy.shape)"
   ]
  },
  {
   "cell_type": "code",
   "execution_count": 134,
   "metadata": {},
   "outputs": [],
   "source": [
    "# Test - Dummyfication of Categorical attributes\n",
    "#print(cat_test.shape)\n",
    "\n",
    "#cat_test_dummy = pd.get_dummies(cat_test, drop_first=True)\n",
    "\n",
    "#print(cat_test_dummy.shape)"
   ]
  },
  {
   "cell_type": "code",
   "execution_count": null,
   "metadata": {},
   "outputs": [],
   "source": []
  },
  {
   "cell_type": "code",
   "execution_count": 135,
   "metadata": {},
   "outputs": [],
   "source": [
    "# Train - Concatenate Numeric and Dummyfied Categorical attributes\n",
    "#print(num_train.shape)\n",
    "#print(cat_train_dummy.shape)\n",
    "\n",
    "#final_train = pd.concat([num_train, cat_train_dummy], axis=1)\n",
    "#final_train.shape"
   ]
  },
  {
   "cell_type": "code",
   "execution_count": 136,
   "metadata": {},
   "outputs": [],
   "source": [
    "#print(num_test.shape)\n",
    "#print(cat_test_dummy.shape)\n",
    "\n",
    "# Train - Concatenate Numeric and Dummyfied Categorical attributes\n",
    "#final_test = pd.concat([num_test, cat_test_dummy], axis=1)\n",
    "#final_test.shape"
   ]
  },
  {
   "cell_type": "code",
   "execution_count": null,
   "metadata": {},
   "outputs": [],
   "source": []
  },
  {
   "cell_type": "code",
   "execution_count": 137,
   "metadata": {},
   "outputs": [
    {
     "data": {
      "text/plain": [
       "Index(['BedroomAbvGr_8', 'Condition2_RRAe', 'Condition2_RRAn',\n",
       "       'Condition2_RRNn', 'Electrical_Mix', 'Exterior1st_ImStucc',\n",
       "       'Exterior1st_Stone', 'Exterior2nd_Other', 'GarageQual_Fa',\n",
       "       'Heating_GasA', 'Heating_OthW', 'HouseStyle_2.5Fin', 'KitchenAbvGr_3',\n",
       "       'MiscFeature_TenC', 'PoolQC_Fa', 'RoofMatl_CompShg', 'RoofMatl_Membran',\n",
       "       'RoofMatl_Metal', 'RoofMatl_Roll', 'Utilities_NoSeWa'],\n",
       "      dtype='object')"
      ]
     },
     "execution_count": 137,
     "metadata": {},
     "output_type": "execute_result"
    }
   ],
   "source": [
    "final_train.columns.difference(final_test.columns)"
   ]
  },
  {
   "cell_type": "code",
   "execution_count": 138,
   "metadata": {},
   "outputs": [
    {
     "data": {
      "text/plain": [
       "Index(['Fireplaces_4', 'FullBath_4', 'GarageCars_5', 'MSSubClass_150'], dtype='object')"
      ]
     },
     "execution_count": 138,
     "metadata": {},
     "output_type": "execute_result"
    }
   ],
   "source": [
    "final_test.columns.difference(final_train.columns)"
   ]
  },
  {
   "cell_type": "code",
   "execution_count": null,
   "metadata": {},
   "outputs": [],
   "source": []
  },
  {
   "cell_type": "code",
   "execution_count": 139,
   "metadata": {},
   "outputs": [],
   "source": [
    "# Compare Train and Test columns and fill 0 in extra columns\n",
    "for column in final_train.columns:\n",
    "    if column not in final_test.columns:\n",
    "        final_test[column] = 0"
   ]
  },
  {
   "cell_type": "code",
   "execution_count": 140,
   "metadata": {},
   "outputs": [],
   "source": [
    "# Compare Train and Test columns and fill 0 in extra columns\n",
    "for column in final_test.columns:\n",
    "    if column not in final_train.columns:\n",
    "        final_train[column] = 0"
   ]
  },
  {
   "cell_type": "code",
   "execution_count": 141,
   "metadata": {},
   "outputs": [
    {
     "name": "stdout",
     "output_type": "stream",
     "text": [
      "(1460, 317)\n",
      "(1459, 317)\n"
     ]
    }
   ],
   "source": [
    "print(final_train.shape)\n",
    "print(final_test.shape)"
   ]
  },
  {
   "cell_type": "code",
   "execution_count": null,
   "metadata": {},
   "outputs": [],
   "source": []
  },
  {
   "cell_type": "code",
   "execution_count": 142,
   "metadata": {},
   "outputs": [],
   "source": [
    "# Split the dataset into Train-Validation in 70:30 ratio\n",
    "from sklearn.model_selection import train_test_split\n",
    "\n",
    "X_train, X_val, y_train, y_val = train_test_split(final_train, target1, test_size= 0.3, random_state = 4)"
   ]
  },
  {
   "cell_type": "code",
   "execution_count": 143,
   "metadata": {},
   "outputs": [
    {
     "name": "stdout",
     "output_type": "stream",
     "text": [
      "(1022, 317)\n",
      "(1022,)\n",
      "(438, 317)\n",
      "(438,)\n"
     ]
    }
   ],
   "source": [
    "print(X_train.shape)\n",
    "print(y_train.shape)\n",
    "print(X_val.shape)\n",
    "print(y_val.shape)"
   ]
  },
  {
   "cell_type": "code",
   "execution_count": null,
   "metadata": {},
   "outputs": [],
   "source": []
  },
  {
   "cell_type": "markdown",
   "metadata": {},
   "source": [
    "## Linear Regression Model"
   ]
  },
  {
   "cell_type": "code",
   "execution_count": 144,
   "metadata": {},
   "outputs": [
    {
     "data": {
      "text/plain": [
       "LinearRegression(copy_X=True, fit_intercept=True, n_jobs=-1, normalize=False)"
      ]
     },
     "execution_count": 144,
     "metadata": {},
     "output_type": "execute_result"
    }
   ],
   "source": [
    "from sklearn.linear_model import LinearRegression\n",
    "\n",
    "model = LinearRegression(n_jobs=-1)\n",
    "model.fit(X_train, y_train)"
   ]
  },
  {
   "cell_type": "code",
   "execution_count": 145,
   "metadata": {},
   "outputs": [
    {
     "data": {
      "text/plain": [
       "[12.288228739016498,\n",
       " 12.26816360990756,\n",
       " 11.919713906356776,\n",
       " 11.75003941304303,\n",
       " 11.64133777617106]"
      ]
     },
     "execution_count": 145,
     "metadata": {},
     "output_type": "execute_result"
    }
   ],
   "source": [
    "# Prediction on Train data\n",
    "y_pred = model.predict(X_val)\n",
    "y_pred[0:5].tolist()"
   ]
  },
  {
   "cell_type": "code",
   "execution_count": 146,
   "metadata": {},
   "outputs": [
    {
     "data": {
      "text/plain": [
       "280     12.339291\n",
       "1365    12.283034\n",
       "132     11.923378\n",
       "357     11.805595\n",
       "438     11.411446\n",
       "Name: SalePrice, dtype: float64"
      ]
     },
     "execution_count": 146,
     "metadata": {},
     "output_type": "execute_result"
    }
   ],
   "source": [
    "y_val.head(5)"
   ]
  },
  {
   "cell_type": "code",
   "execution_count": 147,
   "metadata": {
    "scrolled": true
   },
   "outputs": [],
   "source": [
    "#print('Intercept: \\n', model.intercept_) # Get the intercept, c\n",
    "#print('Coefficients: \\n', model.coef_) # Get the coefficients, beta"
   ]
  },
  {
   "cell_type": "code",
   "execution_count": 148,
   "metadata": {},
   "outputs": [
    {
     "name": "stdout",
     "output_type": "stream",
     "text": [
      "Train R-squared:   0.9565775560979118\n",
      "Test R-squared:   0.5693719123943023\n"
     ]
    }
   ],
   "source": [
    "# R-Square values\n",
    "#print('Train R-squared:  ', model.score(X_train, y_train))\n",
    "#print('Test R-squared : ', model.score(X_val, y_val))\n",
    "\n",
    "#### OR\n",
    "\n",
    "# R-Square values\n",
    "from sklearn.metrics import r2_score\n",
    "\n",
    "train_r2 = r2_score(y_train, model.predict(X_train))\n",
    "print('Train R-squared:  ', train_r2)\n",
    "\n",
    "val_r2 = r2_score(y_val, model.predict(X_val))\n",
    "print('Test R-squared:  ', val_r2) "
   ]
  },
  {
   "cell_type": "code",
   "execution_count": null,
   "metadata": {},
   "outputs": [],
   "source": []
  },
  {
   "cell_type": "code",
   "execution_count": 149,
   "metadata": {},
   "outputs": [
    {
     "name": "stdout",
     "output_type": "stream",
     "text": [
      "Train RMSE:   0.08469023448269682\n",
      "Test  RMSE:   0.25074439137093313\n"
     ]
    }
   ],
   "source": [
    "# Mean Squared Error\n",
    "from sklearn.metrics import mean_squared_error\n",
    "from math import sqrt\n",
    "\n",
    "train_mse = mean_squared_error(y_train, model.predict(X_train))\n",
    "train_rmse = sqrt(train_mse)\n",
    "print('Train RMSE:  ', train_rmse)\n",
    "      \n",
    "val_mse = mean_squared_error(y_val, model.predict(X_val))\n",
    "val_rmse = sqrt(val_mse)\n",
    "print('Test  RMSE:  ', val_rmse)"
   ]
  },
  {
   "cell_type": "code",
   "execution_count": 150,
   "metadata": {},
   "outputs": [
    {
     "data": {
      "image/png": "[encoded data removed]",
      "text/plain": [
       "<Figure size 432x288 with 1 Axes>"
      ]
     },
     "metadata": {},
     "output_type": "display_data"
    }
   ],
   "source": [
    "plt.scatter(y_train, model.predict(X_train))\n",
    "plt.show()"
   ]
  },
  {
   "cell_type": "code",
   "execution_count": 151,
   "metadata": {},
   "outputs": [
    {
     "data": {
      "image/png": "[encoded data removed]",
      "text/plain": [
       "<Figure size 432x288 with 1 Axes>"
      ]
     },
     "metadata": {},
     "output_type": "display_data"
    }
   ],
   "source": [
    "plt.scatter(y_val, y_pred)\n",
    "plt.show()"
   ]
  },
  {
   "cell_type": "code",
   "execution_count": null,
   "metadata": {},
   "outputs": [],
   "source": []
  },
  {
   "cell_type": "code",
   "execution_count": 153,
   "metadata": {},
   "outputs": [
    {
     "name": "stdout",
     "output_type": "stream",
     "text": [
      "[20749, 59287, 201066, 133372, 5703140]\n"
     ]
    }
   ],
   "source": [
    "# Test - Prediction\n",
    "y_test = model.predict(final_test)\n",
    "\n",
    "y_test = np.exp(y_test)\n",
    "y_test = y_test.astype(int)\n",
    "print(y_test[0:5].tolist())"
   ]
  },
  {
   "cell_type": "code",
   "execution_count": 154,
   "metadata": {},
   "outputs": [],
   "source": [
    "######################## Final Submission ########################\n",
    "#Submit the prediction\n",
    "submission = pd.DataFrame({\"Id\": orig_test['Id'], \"SalePrice\": y_test})\n",
    "submission.to_csv('y_preds_linear.csv', index=False)"
   ]
  },
  {
   "cell_type": "code",
   "execution_count": null,
   "metadata": {},
   "outputs": [],
   "source": []
  },
  {
   "cell_type": "markdown",
   "metadata": {},
   "source": [
    "## Linear Regression using Cross-Validation"
   ]
  },
  {
   "cell_type": "code",
   "execution_count": 155,
   "metadata": {},
   "outputs": [],
   "source": [
    "from sklearn.cross_validation import cross_val_score\n",
    "\n",
    "model_cv = LinearRegression(n_jobs=-1)\n",
    "cv_scores = cross_val_score(model_cv, final_train, target1, cv=10, n_jobs=-1, scoring='mean_squared_error')"
   ]
  },
  {
   "cell_type": "code",
   "execution_count": 156,
   "metadata": {},
   "outputs": [
    {
     "name": "stdout",
     "output_type": "stream",
     "text": [
      "CV Scores at each fold: \n",
      " [-0.07455973 -0.07949793 -0.01692701 -0.03619843 -0.02544096 -0.03363077\n",
      " -0.01621324 -0.01038518 -0.07483035 -0.01725184]\n",
      "\n",
      "Mean CV Scores: \n",
      " -0.03849354386806504\n"
     ]
    }
   ],
   "source": [
    "print('CV Scores at each fold: \\n', cv_scores)\n",
    "print('\\nMean CV Scores: \\n', np.mean(cv_scores))"
   ]
  },
  {
   "cell_type": "code",
   "execution_count": null,
   "metadata": {},
   "outputs": [],
   "source": []
  },
  {
   "cell_type": "markdown",
   "metadata": {},
   "source": [
    "## PCA"
   ]
  },
  {
   "cell_type": "code",
   "execution_count": 157,
   "metadata": {
    "scrolled": true
   },
   "outputs": [],
   "source": [
    "from sklearn.preprocessing import StandardScaler\n",
    "\n",
    "sc = StandardScaler()  \n",
    "X_train_std = pd.DataFrame(sc.fit_transform(X_train))\n",
    "X_val_std = pd.DataFrame(sc.transform(X_val))"
   ]
  },
  {
   "cell_type": "code",
   "execution_count": 181,
   "metadata": {},
   "outputs": [],
   "source": [
    "from sklearn.decomposition import PCA\n",
    "\n",
    "pca = PCA(n_components=150) \n",
    "X_train_pca = pca.fit_transform(X_train_std)\n",
    "X_val_pca = pca.transform(X_val_std)"
   ]
  },
  {
   "cell_type": "code",
   "execution_count": 182,
   "metadata": {},
   "outputs": [
    {
     "name": "stdout",
     "output_type": "stream",
     "text": [
      "(1022, 317)\n",
      "(1022, 150)\n"
     ]
    }
   ],
   "source": [
    "print(X_train_std.shape)\n",
    "print(X_train_pca.shape)"
   ]
  },
  {
   "cell_type": "code",
   "execution_count": 183,
   "metadata": {},
   "outputs": [
    {
     "data": {
      "text/plain": [
       "[12.310709916352787,\n",
       " 12.24759520064572,\n",
       " 11.890018034281944,\n",
       " 11.82190701695131,\n",
       " 11.708806501052793]"
      ]
     },
     "execution_count": 183,
     "metadata": {},
     "output_type": "execute_result"
    }
   ],
   "source": [
    "model_pca = LinearRegression()\n",
    "\n",
    "model_pca.fit(X_train_pca, y_train)\n",
    "\n",
    "y_pred_pca = model_pca.predict(X_val_pca)\n",
    "y_pred_pca[0:5].tolist()"
   ]
  },
  {
   "cell_type": "code",
   "execution_count": 184,
   "metadata": {},
   "outputs": [
    {
     "data": {
      "text/plain": [
       "280     12.339291\n",
       "1365    12.283034\n",
       "132     11.923378\n",
       "357     11.805595\n",
       "438     11.411446\n",
       "Name: SalePrice, dtype: float64"
      ]
     },
     "execution_count": 184,
     "metadata": {},
     "output_type": "execute_result"
    }
   ],
   "source": [
    "y_val.head(5)"
   ]
  },
  {
   "cell_type": "code",
   "execution_count": 185,
   "metadata": {},
   "outputs": [
    {
     "name": "stdout",
     "output_type": "stream",
     "text": [
      "[0.05901922 0.08667337 0.11299767 0.13406988 0.15377031 0.17183123\n",
      " 0.18650637 0.20072097 0.21367256 0.2264789  0.23795944 0.24898637\n",
      " 0.25983624 0.27025362 0.28040975 0.28998361 0.29944065 0.30866254\n",
      " 0.31771843 0.32672423 0.33542139 0.34393334 0.35242535 0.36086837\n",
      " 0.36897567 0.37696577 0.38475336 0.39246483 0.39997534 0.40746613\n",
      " 0.41474451 0.42197887 0.42910052 0.43607958 0.44293563 0.44966905\n",
      " 0.4563085  0.46277576 0.46918958 0.47554781 0.48182269 0.48798358\n",
      " 0.49409464 0.50014933 0.50609518 0.51197157 0.51776792 0.52352887\n",
      " 0.52913913 0.53470393 0.54020306 0.54565951 0.55104564 0.55631429\n",
      " 0.56152221 0.56671821 0.57186513 0.57697    0.58198037 0.58696196\n",
      " 0.59189724 0.59679279 0.60162377 0.60641591 0.61117702 0.61589695\n",
      " 0.62058615 0.62522614 0.62980206 0.63435309 0.63882036 0.64321938\n",
      " 0.64758437 0.65191318 0.6562285  0.66050134 0.66475852 0.66898327\n",
      " 0.67314259 0.67725454 0.68133908 0.68539791 0.68940883 0.69339324\n",
      " 0.69733702 0.7012386  0.70512574 0.7089739  0.71277947 0.7165463\n",
      " 0.72025274 0.72395438 0.72764475 0.73128424 0.73488258 0.73846191\n",
      " 0.7420054  0.74553002 0.74902686 0.75249418 0.75591502 0.75929795\n",
      " 0.76264984 0.76598485 0.76928311 0.77254408 0.77573535 0.77891495\n",
      " 0.78207499 0.78521613 0.78832415 0.79140619 0.79444464 0.79747198\n",
      " 0.80045954 0.80342007 0.80634804 0.80925772 0.81215098 0.8150173\n",
      " 0.81787762 0.82066894 0.82343712 0.82619344 0.82891655 0.83162632\n",
      " 0.8342908  0.83692758 0.83955311 0.84214636 0.84471221 0.84727005\n",
      " 0.84976947 0.85226267 0.85471262 0.85713612 0.85952895 0.86190899\n",
      " 0.86424812 0.86656257 0.86883242 0.87106198 0.87328262 0.87549316\n",
      " 0.87768132 0.87982591 0.88190949 0.8839826  0.88603776 0.88805928]\n"
     ]
    },
    {
     "data": {
      "text/plain": [
       "[<matplotlib.lines.Line2D at 0x1eb64ee1668>]"
      ]
     },
     "execution_count": 185,
     "metadata": {},
     "output_type": "execute_result"
    },
    {
     "data": {
      "image/png": "[encoded data removed]",
      "text/plain": [
       "<Figure size 432x288 with 1 Axes>"
      ]
     },
     "metadata": {},
     "output_type": "display_data"
    }
   ],
   "source": [
    "print(pca.explained_variance_ratio_.cumsum())\n",
    "plt.plot(pca.explained_variance_ratio_)"
   ]
  },
  {
   "cell_type": "code",
   "execution_count": null,
   "metadata": {},
   "outputs": [],
   "source": []
  },
  {
   "cell_type": "code",
   "execution_count": 186,
   "metadata": {},
   "outputs": [
    {
     "name": "stdout",
     "output_type": "stream",
     "text": [
      "Train R-squared:   0.9079913292976632\n",
      "Test  R-squared:   0.8582154083183073\n"
     ]
    }
   ],
   "source": [
    "# R-Square values\n",
    "from sklearn.metrics import r2_score\n",
    "\n",
    "train_r2_pca = r2_score(y_train, model_pca.predict(X_train_pca))\n",
    "print('Train R-squared:  ', train_r2_pca)\n",
    "\n",
    "val_r2_pca = r2_score(y_val, model_pca.predict(X_val_pca))\n",
    "print('Test  R-squared:  ', val_r2_pca) "
   ]
  },
  {
   "cell_type": "code",
   "execution_count": 187,
   "metadata": {},
   "outputs": [
    {
     "name": "stdout",
     "output_type": "stream",
     "text": [
      "Train RMSE:   0.12327941988311139\n",
      "Test  RMSE:   0.14387805869538806\n"
     ]
    }
   ],
   "source": [
    "# Mean Squared Error\n",
    "from sklearn.metrics import mean_squared_error\n",
    "from math import sqrt\n",
    "\n",
    "train_mse_pca = mean_squared_error(y_train, model_pca.predict(X_train_pca))\n",
    "train_rmse_pca = sqrt(train_mse_pca)\n",
    "print('Train RMSE:  ', train_rmse_pca)\n",
    "      \n",
    "val_mse_pca = mean_squared_error(y_val, model_pca.predict(X_val_pca))\n",
    "val_rmse_pca = sqrt(val_mse_pca)\n",
    "print('Test  RMSE:  ', val_rmse_pca)"
   ]
  },
  {
   "cell_type": "code",
   "execution_count": 188,
   "metadata": {},
   "outputs": [
    {
     "data": {
      "image/png": "[encoded data removed]",
      "text/plain": [
       "<Figure size 432x288 with 1 Axes>"
      ]
     },
     "metadata": {},
     "output_type": "display_data"
    }
   ],
   "source": [
    "plt.scatter(y_train, model_pca.predict(X_train_pca))\n",
    "plt.show()"
   ]
  },
  {
   "cell_type": "code",
   "execution_count": 190,
   "metadata": {},
   "outputs": [
    {
     "data": {
      "image/png": "[encoded data removed]",
      "text/plain": [
       "<Figure size 432x288 with 1 Axes>"
      ]
     },
     "metadata": {},
     "output_type": "display_data"
    }
   ],
   "source": [
    "plt.scatter(y_val, model_pca.predict(X_val_pca))\n",
    "plt.show()"
   ]
  },
  {
   "cell_type": "code",
   "execution_count": 191,
   "metadata": {},
   "outputs": [
    {
     "name": "stdout",
     "output_type": "stream",
     "text": [
      "[75917, 72319, 109076, 59109, 161915]\n"
     ]
    }
   ],
   "source": [
    "# Test - Prediction\n",
    "X_test_std = pd.DataFrame(sc.transform(final_test))\n",
    "X_test_pca = pca.transform(X_test_std)\n",
    "y_test_pca = model_pca.predict(X_test_pca)\n",
    "\n",
    "y_test_pca = np.exp(y_test_pca)-1\n",
    "y_test_pca = y_test_pca.astype(int)\n",
    "print(y_test_pca[0:5].tolist())"
   ]
  },
  {
   "cell_type": "code",
   "execution_count": 192,
   "metadata": {},
   "outputs": [],
   "source": [
    "######################## Final Submission ########################\n",
    "#Submit the prediction\n",
    "submission = pd.DataFrame({\"Id\": orig_test['Id'], \"SalePrice\": y_test_pca})\n",
    "submission.to_csv('y_preds_pca.csv', index=False)"
   ]
  },
  {
   "cell_type": "code",
   "execution_count": null,
   "metadata": {},
   "outputs": [],
   "source": []
  },
  {
   "cell_type": "markdown",
   "metadata": {},
   "source": [
    "## Ridge Regression"
   ]
  },
  {
   "cell_type": "code",
   "execution_count": 194,
   "metadata": {
    "scrolled": true
   },
   "outputs": [
    {
     "name": "stdout",
     "output_type": "stream",
     "text": [
      "0.1\n",
      "Validation R-square:  0.8720992381143795\n",
      "Validation RMSE: 0.13665219647925142\n",
      "0.2\n",
      "Validation R-square:  0.8777706316397643\n",
      "Validation RMSE: 0.1335881189789596\n",
      "0.30000000000000004\n",
      "Validation R-square:  0.8808926368355477\n",
      "Validation RMSE: 0.13187101716648\n",
      "0.4\n",
      "Validation R-square:  0.8825651175696559\n",
      "Validation RMSE: 0.1309418913379729\n",
      "0.5\n",
      "Validation R-square:  0.8833123321170453\n",
      "Validation RMSE: 0.13052464810535172\n",
      "0.6\n",
      "Validation R-square:  0.8834280919410393\n",
      "Validation RMSE: 0.13045988865061514\n",
      "0.7000000000000001\n",
      "Validation R-square:  0.8830920643300939\n",
      "Validation RMSE: 0.13064778374122898\n",
      "0.8\n",
      "Validation R-square:  0.882421156992755\n",
      "Validation RMSE: 0.1310221260019932\n",
      "0.9\n",
      "Validation R-square:  0.8814951308326291\n",
      "Validation RMSE: 0.13153706541225513\n"
     ]
    }
   ],
   "source": [
    "from sklearn.linear_model import Ridge\n",
    "from math import sqrt\n",
    "\n",
    "for i in np.arange(0.1, 1, 0.1):\n",
    "    alpha = i\n",
    "    print(alpha)\n",
    "    rm = Ridge(alpha=alpha, normalize=True, max_iter=5000, copy_X=True)\n",
    "    ridge_model = rm.fit(X_train, y_train)\n",
    "    preds_ridge = ridge_model.predict(X_val)\n",
    "    \n",
    "    #plt.scatter(preds_ridge, y_val, color='b')\n",
    "    print('Validation R-square: ', ridge_model.score(X_val, y_val))\n",
    "    print('Validation RMSE:', sqrt(mean_squared_error(y_val, preds_ridge)))\n",
    "    plt.show()"
   ]
  },
  {
   "cell_type": "code",
   "execution_count": 196,
   "metadata": {},
   "outputs": [],
   "source": [
    "rm = Ridge(alpha=0.56, normalize=True)\n",
    "ridge_model = rm.fit(X_train, y_train)\n",
    "preds_ridge = ridge_model.predict(X_val)"
   ]
  },
  {
   "cell_type": "code",
   "execution_count": 199,
   "metadata": {},
   "outputs": [
    {
     "name": "stdout",
     "output_type": "stream",
     "text": [
      "[60297, 61588, 112970, 69095, 151050]\n"
     ]
    }
   ],
   "source": [
    "# Test - Prediction\n",
    "y_test_ridge = ridge_model.predict(final_test)\n",
    "\n",
    "y_test_ridge = np.exp(y_test_ridge)-1\n",
    "y_test_ridge = y_test_ridge.astype(int)\n",
    "print(y_test_ridge[0:5].tolist())"
   ]
  },
  {
   "cell_type": "code",
   "execution_count": 200,
   "metadata": {},
   "outputs": [],
   "source": [
    "######################## Final Submission ########################\n",
    "#Submit the prediction\n",
    "submission = pd.DataFrame({\"Id\": orig_test['Id'], \"SalePrice\": y_test_ridge})\n",
    "submission.to_csv('y_preds_ridge.csv', index=False)"
   ]
  },
  {
   "cell_type": "code",
   "execution_count": null,
   "metadata": {},
   "outputs": [],
   "source": []
  },
  {
   "cell_type": "code",
   "execution_count": null,
   "metadata": {},
   "outputs": [],
   "source": []
  },
  {
   "cell_type": "markdown",
   "metadata": {},
   "source": [
    "## Lasso Regression"
   ]
  },
  {
   "cell_type": "code",
   "execution_count": 201,
   "metadata": {
    "scrolled": true
   },
   "outputs": [
    {
     "name": "stdout",
     "output_type": "stream",
     "text": [
      "3e-05\n",
      "Validation R-square:  0.870227173299849\n",
      "Validation RMSE: 0.13764864265909266\n",
      "4e-05\n",
      "Validation R-square:  0.8771007864748697\n",
      "Validation RMSE: 0.13395366571378176\n",
      "5.000000000000001e-05\n",
      "Validation R-square:  0.8756299715087446\n",
      "Validation RMSE: 0.13475283717284456\n"
     ]
    }
   ],
   "source": [
    "from sklearn.linear_model import Lasso\n",
    "\n",
    "for i in np.arange(0.00003, 0.00006, 0.00001):\n",
    "    alpha = i\n",
    "    print(alpha)\n",
    "    lasso = Lasso(alpha=alpha, normalize=True, max_iter=2000)\n",
    "    lasso_model = lasso.fit(X_train, y_train)\n",
    "    preds_lasso = lasso_model.predict(X_val)\n",
    "    \n",
    "    #plt.scatter(preds_lasso, y_val, color='b')\n",
    "    print('Validation R-square: ', lasso_model.score(X_val, y_val))\n",
    "    print('Validation RMSE:', sqrt(mean_squared_error(y_val, preds_lasso)))\n",
    "    plt.show()"
   ]
  },
  {
   "cell_type": "code",
   "execution_count": 202,
   "metadata": {},
   "outputs": [],
   "source": [
    "lasso = Lasso(alpha=0.00004, normalize=True)\n",
    "lasso_model = lasso.fit(X_train, y_train)\n",
    "preds_lasso = lasso_model.predict(X_val)"
   ]
  },
  {
   "cell_type": "code",
   "execution_count": 204,
   "metadata": {},
   "outputs": [
    {
     "name": "stdout",
     "output_type": "stream",
     "text": [
      "[28415, 26160, 74470, 36778, 123109]\n"
     ]
    }
   ],
   "source": [
    "# Test - Prediction\n",
    "y_test_lasso = lasso_model.predict(final_test)\n",
    "\n",
    "y_test_lasso = np.exp(y_test_lasso)\n",
    "y_test_lasso = y_test_lasso.astype(int)\n",
    "print(y_test_lasso[0:5].tolist())"
   ]
  },
  {
   "cell_type": "code",
   "execution_count": 205,
   "metadata": {},
   "outputs": [],
   "source": [
    "######################## Final Submission ########################\n",
    "#Submit the prediction\n",
    "submission = pd.DataFrame({\"Id\": orig_test['Id'], \"SalePrice\": y_test_lasso})\n",
    "submission.to_csv('y_preds_lasso.csv', index=False)"
   ]
  },
  {
   "cell_type": "code",
   "execution_count": null,
   "metadata": {},
   "outputs": [],
   "source": []
  },
  {
   "cell_type": "code",
   "execution_count": null,
   "metadata": {},
   "outputs": [],
   "source": []
  },
  {
   "cell_type": "code",
   "execution_count": null,
   "metadata": {},
   "outputs": [],
   "source": []
  },
  {
   "cell_type": "markdown",
   "metadata": {},
   "source": [
    "## Gradient Boosting Regressor"
   ]
  },
  {
   "cell_type": "code",
   "execution_count": 206,
   "metadata": {},
   "outputs": [
    {
     "data": {
      "text/plain": [
       "GradientBoostingRegressor(alpha=0.9, criterion='friedman_mse', init=None,\n",
       "             learning_rate=0.1, loss='ls', max_depth=3, max_features=None,\n",
       "             max_leaf_nodes=None, min_impurity_decrease=0.0,\n",
       "             min_impurity_split=None, min_samples_leaf=1,\n",
       "             min_samples_split=2, min_weight_fraction_leaf=0.0,\n",
       "             n_estimators=100, presort='auto', random_state=None,\n",
       "             subsample=1.0, verbose=0, warm_start=False)"
      ]
     },
     "execution_count": 206,
     "metadata": {},
     "output_type": "execute_result"
    }
   ],
   "source": [
    "from sklearn import ensemble\n",
    "from sklearn.ensemble import GradientBoostingRegressor\n",
    "\n",
    "model_gbm = GradientBoostingRegressor()\n",
    "model_gbm.fit(X_train, y_train)"
   ]
  },
  {
   "cell_type": "code",
   "execution_count": 207,
   "metadata": {
    "scrolled": true
   },
   "outputs": [
    {
     "data": {
      "text/plain": [
       "[12.378748097251272,\n",
       " 12.278280685489324,\n",
       " 11.892901517980915,\n",
       " 11.920513563671681,\n",
       " 11.381202769276602]"
      ]
     },
     "execution_count": 207,
     "metadata": {},
     "output_type": "execute_result"
    }
   ],
   "source": [
    "y_pred = model_gbm.predict(X_val)\n",
    "y_pred[0:5].tolist()"
   ]
  },
  {
   "cell_type": "code",
   "execution_count": 208,
   "metadata": {},
   "outputs": [
    {
     "data": {
      "text/plain": [
       "280     12.339291\n",
       "1365    12.283034\n",
       "132     11.923378\n",
       "357     11.805595\n",
       "438     11.411446\n",
       "Name: SalePrice, dtype: float64"
      ]
     },
     "execution_count": 208,
     "metadata": {},
     "output_type": "execute_result"
    }
   ],
   "source": [
    "y_val[0:5]"
   ]
  },
  {
   "cell_type": "code",
   "execution_count": 209,
   "metadata": {},
   "outputs": [
    {
     "name": "stdout",
     "output_type": "stream",
     "text": [
      "Train R-squared:  0.9593265713070662\n",
      "Test  R-squared:  0.8933470057984151\n"
     ]
    }
   ],
   "source": [
    "print('Train R-squared: ', model_gbm.score(X_train, y_train))\n",
    "print('Test  R-squared: ', model_gbm.score(X_val, y_val))"
   ]
  },
  {
   "cell_type": "code",
   "execution_count": 210,
   "metadata": {},
   "outputs": [
    {
     "name": "stdout",
     "output_type": "stream",
     "text": [
      "Train RMSE:   0.08196559503027986\n",
      "Test  RMSE:   0.12478620501080498\n"
     ]
    }
   ],
   "source": [
    "# Mean Squared Error\n",
    "from sklearn.metrics import mean_squared_error\n",
    "from math import sqrt\n",
    "\n",
    "train_mse = mean_squared_error(y_train, model_gbm.predict(X_train))\n",
    "train_rmse = sqrt(train_mse)\n",
    "print('Train RMSE:  ', train_rmse)\n",
    "      \n",
    "test_mse = mean_squared_error(y_val, model_gbm.predict(X_val))\n",
    "test_rmse = sqrt(test_mse)\n",
    "print('Test  RMSE:  ', test_rmse)"
   ]
  },
  {
   "cell_type": "code",
   "execution_count": 212,
   "metadata": {},
   "outputs": [
    {
     "name": "stdout",
     "output_type": "stream",
     "text": [
      "[114008, 144323, 170068, 181350, 158342]\n"
     ]
    }
   ],
   "source": [
    "# Test - Prediction\n",
    "y_test_gbm = model_gbm.predict(final_test)\n",
    "\n",
    "y_test_gbm = np.exp(y_test_gbm)\n",
    "y_test_gbm = y_test_gbm.astype(int)\n",
    "print(y_test_gbm[0:5].tolist())"
   ]
  },
  {
   "cell_type": "code",
   "execution_count": 213,
   "metadata": {},
   "outputs": [],
   "source": [
    "######################## Final Submission ########################\n",
    "#Submit the prediction\n",
    "submission = pd.DataFrame({\"Id\": orig_test['Id'], \"SalePrice\": y_test_gbm})\n",
    "submission.to_csv('y_preds_gbm.csv', index=False)"
   ]
  },
  {
   "cell_type": "code",
   "execution_count": null,
   "metadata": {},
   "outputs": [],
   "source": []
  },
  {
   "cell_type": "markdown",
   "metadata": {},
   "source": [
    "## Gradient Boosting Regressor using Random CV"
   ]
  },
  {
   "cell_type": "code",
   "execution_count": 214,
   "metadata": {},
   "outputs": [
    {
     "data": {
      "text/plain": [
       "RandomizedSearchCV(cv=None, error_score='raise',\n",
       "          estimator=GradientBoostingRegressor(alpha=0.9, criterion='friedman_mse', init=None,\n",
       "             learning_rate=0.1, loss='ls', max_depth=3, max_features=None,\n",
       "             max_leaf_nodes=None, min_impurity_decrease=0.0,\n",
       "             min_impurity_split=None, min_samples_leaf=1,\n",
       "             min_samples_split=2, min_weight_fraction_leaf=0.0,\n",
       "             n_estimators=100, presort='auto', random_state=None,\n",
       "             subsample=1.0, verbose=0, warm_start=False),\n",
       "          fit_params=None, iid=True, n_iter=100, n_jobs=-1,\n",
       "          param_distributions={'learning_rate': [0.1, 0.2, 0.01], 'max_depth': array([20, 21, 22, 23, 24, 25, 26, 27, 28, 29, 30, 31, 32, 33, 34, 35, 36,\n",
       "       37, 38, 39, 40, 41, 42, 43, 44, 45, 46, 47, 48, 49, 50, 51, 52, 53,\n",
       "       54, 55, 56, 57, 58, 59, 60, 61, 62, 63, 64, 65, 66, 67, 68, 69]), 'max_fea...215, 220, 225,\n",
       "       230, 235, 240, 245, 250, 255, 260, 265, 270, 275, 280, 285, 290,\n",
       "       295])},\n",
       "          pre_dispatch='2*n_jobs', random_state=None, refit=True,\n",
       "          return_train_score='warn', scoring=None, verbose=0)"
      ]
     },
     "execution_count": 214,
     "metadata": {},
     "output_type": "execute_result"
    }
   ],
   "source": [
    "from sklearn.model_selection import RandomizedSearchCV\n",
    "\n",
    "gbm = GradientBoostingRegressor()\n",
    "\n",
    "param_grid = {'learning_rate': [0.1, 0.2, 0.01],\n",
    "              'max_depth': np.arange(20, 70, 1),\n",
    "              'max_features': np.arange(20, 70, 1),\n",
    "              'max_leaf_nodes': np.arange(5, 15, 1),\n",
    "              'n_estimators': np.arange(100, 300, 5),\n",
    "             }\n",
    "\n",
    "rsearch = RandomizedSearchCV(estimator=gbm, param_distributions=param_grid, n_iter=100, n_jobs=-1)\n",
    "rsearch.fit(X_train, y_train)"
   ]
  },
  {
   "cell_type": "code",
   "execution_count": 215,
   "metadata": {},
   "outputs": [
    {
     "data": {
      "text/plain": [
       "GradientBoostingRegressor(alpha=0.9, criterion='friedman_mse', init=None,\n",
       "             learning_rate=0.1, loss='ls', max_depth=53, max_features=41,\n",
       "             max_leaf_nodes=11, min_impurity_decrease=0.0,\n",
       "             min_impurity_split=None, min_samples_leaf=1,\n",
       "             min_samples_split=2, min_weight_fraction_leaf=0.0,\n",
       "             n_estimators=245, presort='auto', random_state=None,\n",
       "             subsample=1.0, verbose=0, warm_start=False)"
      ]
     },
     "execution_count": 215,
     "metadata": {},
     "output_type": "execute_result"
    }
   ],
   "source": [
    "rsearch.best_estimator_"
   ]
  },
  {
   "cell_type": "code",
   "execution_count": 217,
   "metadata": {},
   "outputs": [
    {
     "name": "stdout",
     "output_type": "stream",
     "text": [
      "Train R-square:  0.9914134247125568\n",
      "Val   R-square:  0.8940133996624283\n"
     ]
    }
   ],
   "source": [
    "print('Train R-square: ', rsearch.score(X_train, y_train))\n",
    "print('Val   R-square: ', rsearch.score(X_val, y_val))"
   ]
  },
  {
   "cell_type": "code",
   "execution_count": 218,
   "metadata": {},
   "outputs": [
    {
     "name": "stdout",
     "output_type": "stream",
     "text": [
      "Train RMSE:   0.037660509831752474\n",
      "Test  RMSE:   0.12439574684655345\n"
     ]
    }
   ],
   "source": [
    "# Mean Squared Error\n",
    "from sklearn.metrics import mean_squared_error\n",
    "from math import sqrt\n",
    "\n",
    "train_mse = mean_squared_error(y_train, rsearch.predict(X_train))\n",
    "train_rmse = sqrt(train_mse)\n",
    "print('Train RMSE:  ', train_rmse)\n",
    "      \n",
    "test_mse = mean_squared_error(y_val, rsearch.predict(X_val))\n",
    "test_rmse = sqrt(test_mse)\n",
    "print('Test  RMSE:  ', test_rmse)"
   ]
  },
  {
   "cell_type": "code",
   "execution_count": 219,
   "metadata": {},
   "outputs": [
    {
     "name": "stdout",
     "output_type": "stream",
     "text": [
      "[140173, 153821, 144035, 146051, 131950]\n"
     ]
    }
   ],
   "source": [
    "# Test - Prediction\n",
    "y_test_gbm_cv = rsearch.predict(final_test)\n",
    "\n",
    "y_test_gbm_cv = np.exp(y_test_gbm_cv)\n",
    "y_test_gbm_cv = y_test_gbm_cv.astype(int)\n",
    "print(y_test_gbm_cv[0:5].tolist())"
   ]
  },
  {
   "cell_type": "code",
   "execution_count": 220,
   "metadata": {},
   "outputs": [],
   "source": [
    "######################## Final Submission ########################\n",
    "#Submit the prediction\n",
    "submission = pd.DataFrame({\"Id\": orig_test['Id'], \"SalePrice\": y_test_gbm_cv})\n",
    "submission.to_csv('y_preds_gbm_cv.csv', index=False)"
   ]
  },
  {
   "cell_type": "code",
   "execution_count": null,
   "metadata": {},
   "outputs": [],
   "source": []
  },
  {
   "cell_type": "code",
   "execution_count": null,
   "metadata": {},
   "outputs": [],
   "source": []
  },
  {
   "cell_type": "code",
   "execution_count": null,
   "metadata": {},
   "outputs": [],
   "source": []
  },
  {
   "cell_type": "code",
   "execution_count": null,
   "metadata": {},
   "outputs": [],
   "source": []
  },
  {
   "cell_type": "code",
   "execution_count": null,
   "metadata": {},
   "outputs": [],
   "source": []
  },
  {
   "cell_type": "code",
   "execution_count": null,
   "metadata": {},
   "outputs": [],
   "source": []
  },
  {
   "cell_type": "code",
   "execution_count": null,
   "metadata": {},
   "outputs": [],
   "source": []
  }
 ],
 "metadata": {
  "kernelspec": {
   "display_name": "Python 3",
   "language": "python",
   "name": "python3"
  },
  "language_info": {
   "codemirror_mode": {
    "name": "ipython",
    "version": 3
   },
   "file_extension": ".py",
   "mimetype": "text/x-python",
   "name": "python",
   "nbconvert_exporter": "python",
   "pygments_lexer": "ipython3",
   "version": "3.6.5"
  }
 },
 "nbformat": 4,
 "nbformat_minor": 2
}
