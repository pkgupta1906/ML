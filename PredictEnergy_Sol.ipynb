{
 "cells": [
  {
   "cell_type": "code",
   "execution_count": 25,
   "metadata": {},
   "outputs": [],
   "source": [
    "import numpy as np\n",
    "import pandas as pd\n",
    "from sklearn.model_selection import train_test_split\n",
    "from sklearn.preprocessing import MinMaxScaler\n",
    "from sklearn.linear_model import LinearRegression\n",
    "from sklearn.linear_model import Ridge\n",
    "from sklearn.linear_model import Lasso\n",
    "from sklearn.decomposition import PCA"
   ]
  },
  {
   "cell_type": "code",
   "execution_count": 2,
   "metadata": {},
   "outputs": [],
   "source": [
    "data = pd.read_csv('PredictEnergy.csv')"
   ]
  },
  {
   "cell_type": "code",
   "execution_count": 3,
   "metadata": {},
   "outputs": [
    {
     "data": {
      "text/html": [
       "<div>\n",
       "<style scoped>\n",
       "    .dataframe tbody tr th:only-of-type {\n",
       "        vertical-align: middle;\n",
       "    }\n",
       "\n",
       "    .dataframe tbody tr th {\n",
       "        vertical-align: top;\n",
       "    }\n",
       "\n",
       "    .dataframe thead th {\n",
       "        text-align: right;\n",
       "    }\n",
       "</style>\n",
       "<table border=\"1\" class=\"dataframe\">\n",
       "  <thead>\n",
       "    <tr style=\"text-align: right;\">\n",
       "      <th></th>\n",
       "      <th>AT</th>\n",
       "      <th>V</th>\n",
       "      <th>AP</th>\n",
       "      <th>RH</th>\n",
       "      <th>PE</th>\n",
       "    </tr>\n",
       "  </thead>\n",
       "  <tbody>\n",
       "    <tr>\n",
       "      <th>count</th>\n",
       "      <td>9568.000000</td>\n",
       "      <td>9568.000000</td>\n",
       "      <td>9568.000000</td>\n",
       "      <td>9568.000000</td>\n",
       "      <td>9568.000000</td>\n",
       "    </tr>\n",
       "    <tr>\n",
       "      <th>mean</th>\n",
       "      <td>19.651231</td>\n",
       "      <td>54.305804</td>\n",
       "      <td>1013.259078</td>\n",
       "      <td>73.308978</td>\n",
       "      <td>454.365009</td>\n",
       "    </tr>\n",
       "    <tr>\n",
       "      <th>std</th>\n",
       "      <td>7.452473</td>\n",
       "      <td>12.707893</td>\n",
       "      <td>5.938784</td>\n",
       "      <td>14.600269</td>\n",
       "      <td>17.066995</td>\n",
       "    </tr>\n",
       "    <tr>\n",
       "      <th>min</th>\n",
       "      <td>1.810000</td>\n",
       "      <td>25.360000</td>\n",
       "      <td>992.890000</td>\n",
       "      <td>25.560000</td>\n",
       "      <td>420.260000</td>\n",
       "    </tr>\n",
       "    <tr>\n",
       "      <th>25%</th>\n",
       "      <td>13.510000</td>\n",
       "      <td>41.740000</td>\n",
       "      <td>1009.100000</td>\n",
       "      <td>63.327500</td>\n",
       "      <td>439.750000</td>\n",
       "    </tr>\n",
       "    <tr>\n",
       "      <th>50%</th>\n",
       "      <td>20.345000</td>\n",
       "      <td>52.080000</td>\n",
       "      <td>1012.940000</td>\n",
       "      <td>74.975000</td>\n",
       "      <td>451.550000</td>\n",
       "    </tr>\n",
       "    <tr>\n",
       "      <th>75%</th>\n",
       "      <td>25.720000</td>\n",
       "      <td>66.540000</td>\n",
       "      <td>1017.260000</td>\n",
       "      <td>84.830000</td>\n",
       "      <td>468.430000</td>\n",
       "    </tr>\n",
       "    <tr>\n",
       "      <th>max</th>\n",
       "      <td>37.110000</td>\n",
       "      <td>81.560000</td>\n",
       "      <td>1033.300000</td>\n",
       "      <td>100.160000</td>\n",
       "      <td>495.760000</td>\n",
       "    </tr>\n",
       "  </tbody>\n",
       "</table>\n",
       "</div>"
      ],
      "text/plain": [
       "                AT            V           AP           RH           PE\n",
       "count  9568.000000  9568.000000  9568.000000  9568.000000  9568.000000\n",
       "mean     19.651231    54.305804  1013.259078    73.308978   454.365009\n",
       "std       7.452473    12.707893     5.938784    14.600269    17.066995\n",
       "min       1.810000    25.360000   992.890000    25.560000   420.260000\n",
       "25%      13.510000    41.740000  1009.100000    63.327500   439.750000\n",
       "50%      20.345000    52.080000  1012.940000    74.975000   451.550000\n",
       "75%      25.720000    66.540000  1017.260000    84.830000   468.430000\n",
       "max      37.110000    81.560000  1033.300000   100.160000   495.760000"
      ]
     },
     "execution_count": 3,
     "metadata": {},
     "output_type": "execute_result"
    }
   ],
   "source": [
    "data.describe()"
   ]
  },
  {
   "cell_type": "code",
   "execution_count": 4,
   "metadata": {},
   "outputs": [
    {
     "data": {
      "text/html": [
       "<div>\n",
       "<style scoped>\n",
       "    .dataframe tbody tr th:only-of-type {\n",
       "        vertical-align: middle;\n",
       "    }\n",
       "\n",
       "    .dataframe tbody tr th {\n",
       "        vertical-align: top;\n",
       "    }\n",
       "\n",
       "    .dataframe thead th {\n",
       "        text-align: right;\n",
       "    }\n",
       "</style>\n",
       "<table border=\"1\" class=\"dataframe\">\n",
       "  <thead>\n",
       "    <tr style=\"text-align: right;\">\n",
       "      <th></th>\n",
       "      <th>AT</th>\n",
       "      <th>V</th>\n",
       "      <th>AP</th>\n",
       "      <th>RH</th>\n",
       "      <th>PE</th>\n",
       "    </tr>\n",
       "  </thead>\n",
       "  <tbody>\n",
       "    <tr>\n",
       "      <th>0</th>\n",
       "      <td>14.96</td>\n",
       "      <td>41.76</td>\n",
       "      <td>1024.07</td>\n",
       "      <td>73.17</td>\n",
       "      <td>463.26</td>\n",
       "    </tr>\n",
       "    <tr>\n",
       "      <th>1</th>\n",
       "      <td>25.18</td>\n",
       "      <td>62.96</td>\n",
       "      <td>1020.04</td>\n",
       "      <td>59.08</td>\n",
       "      <td>444.37</td>\n",
       "    </tr>\n",
       "    <tr>\n",
       "      <th>2</th>\n",
       "      <td>5.11</td>\n",
       "      <td>39.40</td>\n",
       "      <td>1012.16</td>\n",
       "      <td>92.14</td>\n",
       "      <td>488.56</td>\n",
       "    </tr>\n",
       "    <tr>\n",
       "      <th>3</th>\n",
       "      <td>20.86</td>\n",
       "      <td>57.32</td>\n",
       "      <td>1010.24</td>\n",
       "      <td>76.64</td>\n",
       "      <td>446.48</td>\n",
       "    </tr>\n",
       "    <tr>\n",
       "      <th>4</th>\n",
       "      <td>10.82</td>\n",
       "      <td>37.50</td>\n",
       "      <td>1009.23</td>\n",
       "      <td>96.62</td>\n",
       "      <td>473.90</td>\n",
       "    </tr>\n",
       "  </tbody>\n",
       "</table>\n",
       "</div>"
      ],
      "text/plain": [
       "      AT      V       AP     RH      PE\n",
       "0  14.96  41.76  1024.07  73.17  463.26\n",
       "1  25.18  62.96  1020.04  59.08  444.37\n",
       "2   5.11  39.40  1012.16  92.14  488.56\n",
       "3  20.86  57.32  1010.24  76.64  446.48\n",
       "4  10.82  37.50  1009.23  96.62  473.90"
      ]
     },
     "execution_count": 4,
     "metadata": {},
     "output_type": "execute_result"
    }
   ],
   "source": [
    "data.head()"
   ]
  },
  {
   "cell_type": "code",
   "execution_count": 5,
   "metadata": {},
   "outputs": [
    {
     "data": {
      "text/html": [
       "<div>\n",
       "<style scoped>\n",
       "    .dataframe tbody tr th:only-of-type {\n",
       "        vertical-align: middle;\n",
       "    }\n",
       "\n",
       "    .dataframe tbody tr th {\n",
       "        vertical-align: top;\n",
       "    }\n",
       "\n",
       "    .dataframe thead th {\n",
       "        text-align: right;\n",
       "    }\n",
       "</style>\n",
       "<table border=\"1\" class=\"dataframe\">\n",
       "  <thead>\n",
       "    <tr style=\"text-align: right;\">\n",
       "      <th></th>\n",
       "      <th>AT</th>\n",
       "      <th>V</th>\n",
       "      <th>AP</th>\n",
       "      <th>RH</th>\n",
       "      <th>PE</th>\n",
       "    </tr>\n",
       "  </thead>\n",
       "  <tbody>\n",
       "    <tr>\n",
       "      <th>9563</th>\n",
       "      <td>16.65</td>\n",
       "      <td>49.69</td>\n",
       "      <td>1014.01</td>\n",
       "      <td>91.00</td>\n",
       "      <td>460.03</td>\n",
       "    </tr>\n",
       "    <tr>\n",
       "      <th>9564</th>\n",
       "      <td>13.19</td>\n",
       "      <td>39.18</td>\n",
       "      <td>1023.67</td>\n",
       "      <td>66.78</td>\n",
       "      <td>469.62</td>\n",
       "    </tr>\n",
       "    <tr>\n",
       "      <th>9565</th>\n",
       "      <td>31.32</td>\n",
       "      <td>74.33</td>\n",
       "      <td>1012.92</td>\n",
       "      <td>36.48</td>\n",
       "      <td>429.57</td>\n",
       "    </tr>\n",
       "    <tr>\n",
       "      <th>9566</th>\n",
       "      <td>24.48</td>\n",
       "      <td>69.45</td>\n",
       "      <td>1013.86</td>\n",
       "      <td>62.39</td>\n",
       "      <td>435.74</td>\n",
       "    </tr>\n",
       "    <tr>\n",
       "      <th>9567</th>\n",
       "      <td>21.60</td>\n",
       "      <td>62.52</td>\n",
       "      <td>1017.23</td>\n",
       "      <td>67.87</td>\n",
       "      <td>453.28</td>\n",
       "    </tr>\n",
       "  </tbody>\n",
       "</table>\n",
       "</div>"
      ],
      "text/plain": [
       "         AT      V       AP     RH      PE\n",
       "9563  16.65  49.69  1014.01  91.00  460.03\n",
       "9564  13.19  39.18  1023.67  66.78  469.62\n",
       "9565  31.32  74.33  1012.92  36.48  429.57\n",
       "9566  24.48  69.45  1013.86  62.39  435.74\n",
       "9567  21.60  62.52  1017.23  67.87  453.28"
      ]
     },
     "execution_count": 5,
     "metadata": {},
     "output_type": "execute_result"
    }
   ],
   "source": [
    "data.tail()"
   ]
  },
  {
   "cell_type": "code",
   "execution_count": 6,
   "metadata": {},
   "outputs": [
    {
     "data": {
      "text/plain": [
       "AT    float64\n",
       "V     float64\n",
       "AP    float64\n",
       "RH    float64\n",
       "PE    float64\n",
       "dtype: object"
      ]
     },
     "execution_count": 6,
     "metadata": {},
     "output_type": "execute_result"
    }
   ],
   "source": [
    "data.dtypes"
   ]
  },
  {
   "cell_type": "code",
   "execution_count": 7,
   "metadata": {},
   "outputs": [
    {
     "data": {
      "text/plain": [
       "(9568, 5)"
      ]
     },
     "execution_count": 7,
     "metadata": {},
     "output_type": "execute_result"
    }
   ],
   "source": [
    "data.shape"
   ]
  },
  {
   "cell_type": "markdown",
   "metadata": {},
   "source": [
    "## Data Pre-processing"
   ]
  },
  {
   "cell_type": "code",
   "execution_count": 8,
   "metadata": {},
   "outputs": [
    {
     "data": {
      "text/plain": [
       "0"
      ]
     },
     "execution_count": 8,
     "metadata": {},
     "output_type": "execute_result"
    }
   ],
   "source": [
    "# Overall NA values\n",
    "data.isna().sum(axis=1).sum()"
   ]
  },
  {
   "cell_type": "code",
   "execution_count": 9,
   "metadata": {},
   "outputs": [
    {
     "data": {
      "text/html": [
       "<div>\n",
       "<style scoped>\n",
       "    .dataframe tbody tr th:only-of-type {\n",
       "        vertical-align: middle;\n",
       "    }\n",
       "\n",
       "    .dataframe tbody tr th {\n",
       "        vertical-align: top;\n",
       "    }\n",
       "\n",
       "    .dataframe thead th {\n",
       "        text-align: right;\n",
       "    }\n",
       "</style>\n",
       "<table border=\"1\" class=\"dataframe\">\n",
       "  <thead>\n",
       "    <tr style=\"text-align: right;\">\n",
       "      <th></th>\n",
       "      <th>AT</th>\n",
       "      <th>V</th>\n",
       "      <th>AP</th>\n",
       "      <th>RH</th>\n",
       "    </tr>\n",
       "  </thead>\n",
       "  <tbody>\n",
       "    <tr>\n",
       "      <th>0</th>\n",
       "      <td>14.96</td>\n",
       "      <td>41.76</td>\n",
       "      <td>1024.07</td>\n",
       "      <td>73.17</td>\n",
       "    </tr>\n",
       "    <tr>\n",
       "      <th>1</th>\n",
       "      <td>25.18</td>\n",
       "      <td>62.96</td>\n",
       "      <td>1020.04</td>\n",
       "      <td>59.08</td>\n",
       "    </tr>\n",
       "    <tr>\n",
       "      <th>2</th>\n",
       "      <td>5.11</td>\n",
       "      <td>39.40</td>\n",
       "      <td>1012.16</td>\n",
       "      <td>92.14</td>\n",
       "    </tr>\n",
       "    <tr>\n",
       "      <th>3</th>\n",
       "      <td>20.86</td>\n",
       "      <td>57.32</td>\n",
       "      <td>1010.24</td>\n",
       "      <td>76.64</td>\n",
       "    </tr>\n",
       "    <tr>\n",
       "      <th>4</th>\n",
       "      <td>10.82</td>\n",
       "      <td>37.50</td>\n",
       "      <td>1009.23</td>\n",
       "      <td>96.62</td>\n",
       "    </tr>\n",
       "  </tbody>\n",
       "</table>\n",
       "</div>"
      ],
      "text/plain": [
       "      AT      V       AP     RH\n",
       "0  14.96  41.76  1024.07  73.17\n",
       "1  25.18  62.96  1020.04  59.08\n",
       "2   5.11  39.40  1012.16  92.14\n",
       "3  20.86  57.32  1010.24  76.64\n",
       "4  10.82  37.50  1009.23  96.62"
      ]
     },
     "execution_count": 9,
     "metadata": {},
     "output_type": "execute_result"
    }
   ],
   "source": [
    "# Independent attributes\n",
    "X = data.iloc[:,0:4]\n",
    "X.head()"
   ]
  },
  {
   "cell_type": "code",
   "execution_count": 10,
   "metadata": {},
   "outputs": [
    {
     "data": {
      "text/plain": [
       "0    463.26\n",
       "1    444.37\n",
       "2    488.56\n",
       "3    446.48\n",
       "4    473.90\n",
       "Name: PE, dtype: float64"
      ]
     },
     "execution_count": 10,
     "metadata": {},
     "output_type": "execute_result"
    }
   ],
   "source": [
    "# Target attribute\n",
    "y = data.iloc[:, -1]\n",
    "y.head()"
   ]
  },
  {
   "cell_type": "code",
   "execution_count": 11,
   "metadata": {},
   "outputs": [],
   "source": [
    "# Split the data in TRAIN and TEST data-set\n",
    "X_train, X_test, y_train, y_test = train_test_split(X, y, test_size = 0.3, random_state = 4)"
   ]
  },
  {
   "cell_type": "markdown",
   "metadata": {},
   "source": [
    "## Linear Regression"
   ]
  },
  {
   "cell_type": "code",
   "execution_count": 12,
   "metadata": {},
   "outputs": [],
   "source": [
    "# Build a linear regression model\n",
    "linReg = LinearRegression().fit(X_train, y_train)"
   ]
  },
  {
   "cell_type": "code",
   "execution_count": 13,
   "metadata": {},
   "outputs": [
    {
     "name": "stdout",
     "output_type": "stream",
     "text": [
      "Train Accuracy : 92.85\n",
      "Test Accuracy  : 92.91\n"
     ]
    }
   ],
   "source": [
    "# Accuracy on Train and Test data-set\n",
    "print('Train Accuracy : {:.2f}'.format(linReg.score(X_train, y_train)*100))\n",
    "print('Test Accuracy  : {:.2f}'.format(linReg.score(X_test, y_test)*100))"
   ]
  },
  {
   "cell_type": "code",
   "execution_count": 14,
   "metadata": {},
   "outputs": [
    {
     "name": "stdout",
     "output_type": "stream",
     "text": [
      "Co-efficient (w) : [-1.98468862 -0.22963276  0.06694701 -0.15805687]\n",
      "Intercept (b) : 449.58\n"
     ]
    }
   ],
   "source": [
    "# Co-efficient and Intercept values\n",
    "print('Co-efficient (w) : {}'.format(linReg.coef_))\n",
    "print('Intercept (b) : {:.2f}'.format(linReg.intercept_))\n",
    "\n",
    "# PE = -1.98468862*AT - 0.22963276*V + 0.06694701*AP - -0.15805687*RH + 449.58"
   ]
  },
  {
   "cell_type": "code",
   "execution_count": null,
   "metadata": {},
   "outputs": [],
   "source": []
  },
  {
   "cell_type": "code",
   "execution_count": null,
   "metadata": {},
   "outputs": [],
   "source": []
  },
  {
   "cell_type": "markdown",
   "metadata": {},
   "source": [
    "## Ridge and Lasso Regression"
   ]
  },
  {
   "cell_type": "code",
   "execution_count": 15,
   "metadata": {},
   "outputs": [],
   "source": [
    "scaler = MinMaxScaler()\n",
    "X_train_scaled = scaler.fit_transform(X_train)\n",
    "X_test_scaled = scaler.fit_transform(X_test)"
   ]
  },
  {
   "cell_type": "code",
   "execution_count": 16,
   "metadata": {},
   "outputs": [
    {
     "name": "stdout",
     "output_type": "stream",
     "text": [
      "Train data: \n",
      " [[0.68186969 0.68274021 0.41054195 0.69182306]\n",
      " [0.60764873 0.6797153  0.51348676 0.61313673]\n",
      " [0.17592068 0.26459075 0.60702796 0.86729223]\n",
      " ...\n",
      " [0.68583569 0.82882562 0.40806731 0.51689008]\n",
      " [0.60226629 0.80266904 0.38975501 0.77493298]\n",
      " [0.23371105 0.31779359 0.52487008 0.80616622]]\n",
      "---------------------------------------------------------\n",
      "Test data: \n",
      " [[0.16671765 0.32415177 0.66433217 0.80070024]\n",
      " [0.27347813 0.27708865 0.32816408 0.96808511]\n",
      " [0.56347507 0.79697191 0.2196098  0.69983841]\n",
      " ...\n",
      " [0.71275619 0.82743524 0.42646323 0.78252087]\n",
      " [0.55429795 0.61747537 0.63306653 0.80797199]\n",
      " [0.18721322 0.2608537  0.55102551 0.80110423]]\n"
     ]
    }
   ],
   "source": [
    "print('Train data: \\n', X_train_scaled)\n",
    "print('---------------------------------------------------------')\n",
    "print('Test data: \\n', X_test_scaled)"
   ]
  },
  {
   "cell_type": "markdown",
   "metadata": {},
   "source": [
    "### a) Ridge Regression"
   ]
  },
  {
   "cell_type": "code",
   "execution_count": 17,
   "metadata": {},
   "outputs": [],
   "source": [
    "# With some random alpha value = 12\n",
    "linRidge = Ridge(alpha = 12).fit(X_train_scaled, y_train)"
   ]
  },
  {
   "cell_type": "code",
   "execution_count": 18,
   "metadata": {},
   "outputs": [
    {
     "name": "stdout",
     "output_type": "stream",
     "text": [
      "Train Accuracy : 92.501\n",
      "Test Accuracy  : 91.543\n"
     ]
    }
   ],
   "source": [
    "# Accuracy on Train and Test data\n",
    "print('Train Accuracy : {:.3f}'.format(linRidge.score(X_train_scaled, y_train)*100))\n",
    "print('Test Accuracy  : {:.3f}'.format(linRidge.score(X_test_scaled, y_test)*100))"
   ]
  },
  {
   "cell_type": "code",
   "execution_count": 19,
   "metadata": {},
   "outputs": [
    {
     "name": "stdout",
     "output_type": "stream",
     "text": [
      "Co-efficient (w) : [-58.41279798 -19.26657117   6.05124241  -7.18169929]\n",
      "Intercept (b) : 495.35\n"
     ]
    }
   ],
   "source": [
    "# Co-efficient and Intercept values\n",
    "print('Co-efficient (w) :', linRidge.coef_)\n",
    "print('Intercept (b) : {:.2f}'.format(linRidge.intercept_))"
   ]
  },
  {
   "cell_type": "code",
   "execution_count": null,
   "metadata": {},
   "outputs": [],
   "source": []
  },
  {
   "cell_type": "code",
   "execution_count": null,
   "metadata": {},
   "outputs": [],
   "source": []
  },
  {
   "cell_type": "markdown",
   "metadata": {},
   "source": [
    "### b) Lasso Regression"
   ]
  },
  {
   "cell_type": "code",
   "execution_count": 20,
   "metadata": {},
   "outputs": [],
   "source": [
    "# With some random alpha value = 20\n",
    "\n",
    "linLasso = Ridge(alpha = 8).fit(X_train_scaled, y_train)"
   ]
  },
  {
   "cell_type": "code",
   "execution_count": 21,
   "metadata": {},
   "outputs": [
    {
     "name": "stdout",
     "output_type": "stream",
     "text": [
      "Train Accuracy : 92.664\n",
      "Test Accuracy  : 91.510\n"
     ]
    }
   ],
   "source": [
    "# Accuracy on Train and Test data\n",
    "print('Train Accuracy : {:.3f}'.format(linLasso.score(X_train_scaled, y_train)*100))\n",
    "print('Test Accuracy  : {:.3f}'.format(linLasso.score(X_test_scaled, y_test)*100))"
   ]
  },
  {
   "cell_type": "code",
   "execution_count": 22,
   "metadata": {},
   "outputs": [
    {
     "name": "stdout",
     "output_type": "stream",
     "text": [
      "Co-efficient (w) : [-61.51038234 -17.6531085    5.1951727   -8.42302509]\n",
      "Intercept (b) : 497.31\n"
     ]
    }
   ],
   "source": [
    "# Co-efficient and Intercept values\n",
    "print('Co-efficient (w) :', linLasso.coef_)\n",
    "print('Intercept (b) : {:.2f}'.format(linLasso.intercept_))"
   ]
  },
  {
   "cell_type": "code",
   "execution_count": null,
   "metadata": {},
   "outputs": [],
   "source": []
  },
  {
   "cell_type": "code",
   "execution_count": null,
   "metadata": {},
   "outputs": [],
   "source": []
  },
  {
   "cell_type": "markdown",
   "metadata": {},
   "source": [
    "### Best Alpha value for Ridge Regularization"
   ]
  },
  {
   "cell_type": "code",
   "execution_count": 23,
   "metadata": {},
   "outputs": [
    {
     "name": "stdout",
     "output_type": "stream",
     "text": [
      "Alpha = 0.00 \n",
      "           Accuracy - Train: 0.92851,            Accuracy - Train: 0.91120 \n",
      "\n",
      "Alpha = 0.25 \n",
      "           Accuracy - Train: 0.92851,            Accuracy - Train: 0.91143 \n",
      "\n",
      "Alpha = 0.50 \n",
      "           Accuracy - Train: 0.92850,            Accuracy - Train: 0.91166 \n",
      "\n",
      "Alpha = 0.75 \n",
      "           Accuracy - Train: 0.92849,            Accuracy - Train: 0.91187 \n",
      "\n",
      "Alpha = 1.00 \n",
      "           Accuracy - Train: 0.92847,            Accuracy - Train: 0.91208 \n",
      "\n",
      "Alpha = 1.25 \n",
      "           Accuracy - Train: 0.92845,            Accuracy - Train: 0.91227 \n",
      "\n",
      "Alpha = 1.50 \n",
      "           Accuracy - Train: 0.92842,            Accuracy - Train: 0.91246 \n",
      "\n",
      "Alpha = 1.75 \n",
      "           Accuracy - Train: 0.92839,            Accuracy - Train: 0.91264 \n",
      "\n",
      "Alpha = 2.00 \n",
      "           Accuracy - Train: 0.92835,            Accuracy - Train: 0.91281 \n",
      "\n",
      "Alpha = 2.25 \n",
      "           Accuracy - Train: 0.92831,            Accuracy - Train: 0.91297 \n",
      "\n",
      "Alpha = 2.50 \n",
      "           Accuracy - Train: 0.92827,            Accuracy - Train: 0.91313 \n",
      "\n",
      "Alpha = 2.75 \n",
      "           Accuracy - Train: 0.92822,            Accuracy - Train: 0.91328 \n",
      "\n",
      "Alpha = 3.00 \n",
      "           Accuracy - Train: 0.92817,            Accuracy - Train: 0.91342 \n",
      "\n",
      "Alpha = 3.25 \n",
      "           Accuracy - Train: 0.92811,            Accuracy - Train: 0.91355 \n",
      "\n",
      "Alpha = 3.50 \n",
      "           Accuracy - Train: 0.92806,            Accuracy - Train: 0.91368 \n",
      "\n",
      "Alpha = 3.75 \n",
      "           Accuracy - Train: 0.92800,            Accuracy - Train: 0.91380 \n",
      "\n",
      "Alpha = 4.00 \n",
      "           Accuracy - Train: 0.92793,            Accuracy - Train: 0.91392 \n",
      "\n",
      "Alpha = 4.25 \n",
      "           Accuracy - Train: 0.92787,            Accuracy - Train: 0.91402 \n",
      "\n",
      "Alpha = 4.50 \n",
      "           Accuracy - Train: 0.92780,            Accuracy - Train: 0.91413 \n",
      "\n",
      "Alpha = 4.75 \n",
      "           Accuracy - Train: 0.92773,            Accuracy - Train: 0.91423 \n",
      "\n",
      "Alpha = 5.00 \n",
      "           Accuracy - Train: 0.92766,            Accuracy - Train: 0.91432 \n",
      "\n",
      "Alpha = 5.25 \n",
      "           Accuracy - Train: 0.92758,            Accuracy - Train: 0.91441 \n",
      "\n",
      "Alpha = 5.50 \n",
      "           Accuracy - Train: 0.92751,            Accuracy - Train: 0.91449 \n",
      "\n",
      "Alpha = 5.75 \n",
      "           Accuracy - Train: 0.92743,            Accuracy - Train: 0.91457 \n",
      "\n",
      "Alpha = 6.00 \n",
      "           Accuracy - Train: 0.92735,            Accuracy - Train: 0.91465 \n",
      "\n",
      "Alpha = 6.25 \n",
      "           Accuracy - Train: 0.92726,            Accuracy - Train: 0.91472 \n",
      "\n",
      "Alpha = 6.50 \n",
      "           Accuracy - Train: 0.92718,            Accuracy - Train: 0.91478 \n",
      "\n",
      "Alpha = 6.75 \n",
      "           Accuracy - Train: 0.92709,            Accuracy - Train: 0.91485 \n",
      "\n",
      "Alpha = 7.00 \n",
      "           Accuracy - Train: 0.92700,            Accuracy - Train: 0.91491 \n",
      "\n",
      "Alpha = 7.25 \n",
      "           Accuracy - Train: 0.92691,            Accuracy - Train: 0.91496 \n",
      "\n",
      "Alpha = 7.50 \n",
      "           Accuracy - Train: 0.92682,            Accuracy - Train: 0.91501 \n",
      "\n",
      "Alpha = 7.75 \n",
      "           Accuracy - Train: 0.92673,            Accuracy - Train: 0.91506 \n",
      "\n",
      "Alpha = 8.00 \n",
      "           Accuracy - Train: 0.92664,            Accuracy - Train: 0.91510 \n",
      "\n",
      "Alpha = 8.25 \n",
      "           Accuracy - Train: 0.92654,            Accuracy - Train: 0.91514 \n",
      "\n",
      "Alpha = 8.50 \n",
      "           Accuracy - Train: 0.92645,            Accuracy - Train: 0.91518 \n",
      "\n",
      "Alpha = 8.75 \n",
      "           Accuracy - Train: 0.92635,            Accuracy - Train: 0.91522 \n",
      "\n",
      "Alpha = 9.00 \n",
      "           Accuracy - Train: 0.92625,            Accuracy - Train: 0.91525 \n",
      "\n",
      "Alpha = 9.25 \n",
      "           Accuracy - Train: 0.92615,            Accuracy - Train: 0.91528 \n",
      "\n",
      "Alpha = 9.50 \n",
      "           Accuracy - Train: 0.92605,            Accuracy - Train: 0.91530 \n",
      "\n",
      "Alpha = 9.75 \n",
      "           Accuracy - Train: 0.92595,            Accuracy - Train: 0.91533 \n",
      "\n",
      "Alpha = 10.00 \n",
      "           Accuracy - Train: 0.92585,            Accuracy - Train: 0.91535 \n",
      "\n",
      "Alpha = 10.25 \n",
      "           Accuracy - Train: 0.92575,            Accuracy - Train: 0.91536 \n",
      "\n",
      "Alpha = 10.50 \n",
      "           Accuracy - Train: 0.92564,            Accuracy - Train: 0.91538 \n",
      "\n",
      "Alpha = 10.75 \n",
      "           Accuracy - Train: 0.92554,            Accuracy - Train: 0.91539 \n",
      "\n",
      "Alpha = 11.00 \n",
      "           Accuracy - Train: 0.92543,            Accuracy - Train: 0.91541 \n",
      "\n",
      "Alpha = 11.25 \n",
      "           Accuracy - Train: 0.92533,            Accuracy - Train: 0.91541 \n",
      "\n",
      "Alpha = 11.50 \n",
      "           Accuracy - Train: 0.92522,            Accuracy - Train: 0.91542 \n",
      "\n",
      "Alpha = 11.75 \n",
      "           Accuracy - Train: 0.92511,            Accuracy - Train: 0.91543 \n",
      "\n",
      "Alpha = 12.00 \n",
      "           Accuracy - Train: 0.92501,            Accuracy - Train: 0.91543 \n",
      "\n",
      "Alpha = 12.25 \n",
      "           Accuracy - Train: 0.92490,            Accuracy - Train: 0.91543 \n",
      "\n",
      "Alpha = 12.50 \n",
      "           Accuracy - Train: 0.92479,            Accuracy - Train: 0.91543 \n",
      "\n",
      "Alpha = 12.75 \n",
      "           Accuracy - Train: 0.92468,            Accuracy - Train: 0.91543 \n",
      "\n",
      "Alpha = 13.00 \n",
      "           Accuracy - Train: 0.92457,            Accuracy - Train: 0.91542 \n",
      "\n",
      "Alpha = 13.25 \n",
      "           Accuracy - Train: 0.92446,            Accuracy - Train: 0.91542 \n",
      "\n",
      "Alpha = 13.50 \n",
      "           Accuracy - Train: 0.92435,            Accuracy - Train: 0.91541 \n",
      "\n",
      "Alpha = 13.75 \n",
      "           Accuracy - Train: 0.92424,            Accuracy - Train: 0.91540 \n",
      "\n",
      "Alpha = 14.00 \n",
      "           Accuracy - Train: 0.92413,            Accuracy - Train: 0.91539 \n",
      "\n",
      "Alpha = 14.25 \n",
      "           Accuracy - Train: 0.92402,            Accuracy - Train: 0.91538 \n",
      "\n",
      "Alpha = 14.50 \n",
      "           Accuracy - Train: 0.92390,            Accuracy - Train: 0.91536 \n",
      "\n",
      "Alpha = 14.75 \n",
      "           Accuracy - Train: 0.92379,            Accuracy - Train: 0.91535 \n",
      "\n"
     ]
    }
   ],
   "source": [
    "for this_alpha in np.arange(0, 15, 0.25):\n",
    "    linRidge1 = Ridge(alpha = this_alpha).fit(X_train_scaled, y_train)\n",
    "    train_acc = linRidge1.score(X_train_scaled, y_train)\n",
    "    test_acc  = linRidge1.score(X_test_scaled, y_test)\n",
    "    \n",
    "    print('Alpha = {:.2f} \\n\\\n",
    "           Accuracy - Train: {:.5f}, \\\n",
    "           Accuracy - Train: {:.5f} \\n'\n",
    "          .format(this_alpha, train_acc, test_acc))"
   ]
  },
  {
   "cell_type": "markdown",
   "metadata": {},
   "source": [
    "### Best Alpha value for Lasso Regularization "
   ]
  },
  {
   "cell_type": "code",
   "execution_count": null,
   "metadata": {},
   "outputs": [],
   "source": []
  },
  {
   "cell_type": "code",
   "execution_count": null,
   "metadata": {},
   "outputs": [],
   "source": []
  },
  {
   "cell_type": "code",
   "execution_count": 24,
   "metadata": {},
   "outputs": [
    {
     "name": "stderr",
     "output_type": "stream",
     "text": [
      "C:\\ProgramData\\Anaconda3\\lib\\site-packages\\ipykernel_launcher.py:2: UserWarning: With alpha=0, this algorithm does not converge well. You are advised to use the LinearRegression estimator\n",
      "  \n",
      "C:\\ProgramData\\Anaconda3\\lib\\site-packages\\sklearn\\linear_model\\coordinate_descent.py:477: UserWarning: Coordinate descent with no regularization may lead to unexpected results and is discouraged.\n",
      "  positive)\n",
      "C:\\ProgramData\\Anaconda3\\lib\\site-packages\\sklearn\\linear_model\\coordinate_descent.py:491: ConvergenceWarning: Objective did not converge. You might want to increase the number of iterations. Fitting data with very small alpha may cause precision problems.\n",
      "  ConvergenceWarning)\n"
     ]
    },
    {
     "name": "stdout",
     "output_type": "stream",
     "text": [
      "Alpha = 0.000 \n",
      "           Accuracy - Train: 0.92851,            Accuracy - Train: 0.91120 \n",
      "\n",
      "Alpha = 0.001 \n",
      "           Accuracy - Train: 0.92851,            Accuracy - Train: 0.91125 \n",
      "\n",
      "Alpha = 0.002 \n",
      "           Accuracy - Train: 0.92851,            Accuracy - Train: 0.91133 \n",
      "\n",
      "Alpha = 0.003 \n",
      "           Accuracy - Train: 0.92851,            Accuracy - Train: 0.91140 \n",
      "\n",
      "Alpha = 0.004 \n",
      "           Accuracy - Train: 0.92851,            Accuracy - Train: 0.91147 \n",
      "\n",
      "Alpha = 0.005 \n",
      "           Accuracy - Train: 0.92850,            Accuracy - Train: 0.91154 \n",
      "\n",
      "Alpha = 0.006 \n",
      "           Accuracy - Train: 0.92850,            Accuracy - Train: 0.91161 \n",
      "\n",
      "Alpha = 0.007 \n",
      "           Accuracy - Train: 0.92849,            Accuracy - Train: 0.91168 \n",
      "\n",
      "Alpha = 0.008 \n",
      "           Accuracy - Train: 0.92849,            Accuracy - Train: 0.91175 \n",
      "\n",
      "Alpha = 0.009 \n",
      "           Accuracy - Train: 0.92848,            Accuracy - Train: 0.91181 \n",
      "\n",
      "Alpha = 0.010 \n",
      "           Accuracy - Train: 0.92847,            Accuracy - Train: 0.91188 \n",
      "\n",
      "Alpha = 0.011 \n",
      "           Accuracy - Train: 0.92846,            Accuracy - Train: 0.91194 \n",
      "\n",
      "Alpha = 0.012 \n",
      "           Accuracy - Train: 0.92845,            Accuracy - Train: 0.91201 \n",
      "\n",
      "Alpha = 0.013 \n",
      "           Accuracy - Train: 0.92844,            Accuracy - Train: 0.91207 \n",
      "\n",
      "Alpha = 0.014 \n",
      "           Accuracy - Train: 0.92843,            Accuracy - Train: 0.91213 \n",
      "\n",
      "Alpha = 0.015 \n",
      "           Accuracy - Train: 0.92842,            Accuracy - Train: 0.91219 \n",
      "\n",
      "Alpha = 0.016 \n",
      "           Accuracy - Train: 0.92841,            Accuracy - Train: 0.91225 \n",
      "\n",
      "Alpha = 0.017 \n",
      "           Accuracy - Train: 0.92839,            Accuracy - Train: 0.91231 \n",
      "\n",
      "Alpha = 0.018 \n",
      "           Accuracy - Train: 0.92838,            Accuracy - Train: 0.91237 \n",
      "\n",
      "Alpha = 0.019 \n",
      "           Accuracy - Train: 0.92836,            Accuracy - Train: 0.91243 \n",
      "\n",
      "Alpha = 0.020 \n",
      "           Accuracy - Train: 0.92835,            Accuracy - Train: 0.91248 \n",
      "\n",
      "Alpha = 0.021 \n",
      "           Accuracy - Train: 0.92833,            Accuracy - Train: 0.91254 \n",
      "\n",
      "Alpha = 0.022 \n",
      "           Accuracy - Train: 0.92831,            Accuracy - Train: 0.91259 \n",
      "\n",
      "Alpha = 0.023 \n",
      "           Accuracy - Train: 0.92830,            Accuracy - Train: 0.91265 \n",
      "\n",
      "Alpha = 0.024 \n",
      "           Accuracy - Train: 0.92828,            Accuracy - Train: 0.91270 \n",
      "\n",
      "Alpha = 0.025 \n",
      "           Accuracy - Train: 0.92826,            Accuracy - Train: 0.91275 \n",
      "\n",
      "Alpha = 0.026 \n",
      "           Accuracy - Train: 0.92824,            Accuracy - Train: 0.91280 \n",
      "\n",
      "Alpha = 0.027 \n",
      "           Accuracy - Train: 0.92821,            Accuracy - Train: 0.91286 \n",
      "\n",
      "Alpha = 0.028 \n",
      "           Accuracy - Train: 0.92819,            Accuracy - Train: 0.91290 \n",
      "\n",
      "Alpha = 0.029 \n",
      "           Accuracy - Train: 0.92817,            Accuracy - Train: 0.91295 \n",
      "\n",
      "Alpha = 0.030 \n",
      "           Accuracy - Train: 0.92814,            Accuracy - Train: 0.91300 \n",
      "\n",
      "Alpha = 0.031 \n",
      "           Accuracy - Train: 0.92812,            Accuracy - Train: 0.91304 \n",
      "\n",
      "Alpha = 0.032 \n",
      "           Accuracy - Train: 0.92809,            Accuracy - Train: 0.91309 \n",
      "\n",
      "Alpha = 0.033 \n",
      "           Accuracy - Train: 0.92806,            Accuracy - Train: 0.91313 \n",
      "\n",
      "Alpha = 0.034 \n",
      "           Accuracy - Train: 0.92804,            Accuracy - Train: 0.91317 \n",
      "\n",
      "Alpha = 0.035 \n",
      "           Accuracy - Train: 0.92801,            Accuracy - Train: 0.91322 \n",
      "\n",
      "Alpha = 0.036 \n",
      "           Accuracy - Train: 0.92798,            Accuracy - Train: 0.91326 \n",
      "\n",
      "Alpha = 0.037 \n",
      "           Accuracy - Train: 0.92795,            Accuracy - Train: 0.91330 \n",
      "\n",
      "Alpha = 0.038 \n",
      "           Accuracy - Train: 0.92792,            Accuracy - Train: 0.91334 \n",
      "\n",
      "Alpha = 0.039 \n",
      "           Accuracy - Train: 0.92789,            Accuracy - Train: 0.91337 \n",
      "\n",
      "Alpha = 0.040 \n",
      "           Accuracy - Train: 0.92785,            Accuracy - Train: 0.91341 \n",
      "\n",
      "Alpha = 0.041 \n",
      "           Accuracy - Train: 0.92782,            Accuracy - Train: 0.91345 \n",
      "\n",
      "Alpha = 0.042 \n",
      "           Accuracy - Train: 0.92779,            Accuracy - Train: 0.91348 \n",
      "\n",
      "Alpha = 0.043 \n",
      "           Accuracy - Train: 0.92775,            Accuracy - Train: 0.91352 \n",
      "\n",
      "Alpha = 0.044 \n",
      "           Accuracy - Train: 0.92772,            Accuracy - Train: 0.91355 \n",
      "\n",
      "Alpha = 0.045 \n",
      "           Accuracy - Train: 0.92768,            Accuracy - Train: 0.91358 \n",
      "\n",
      "Alpha = 0.046 \n",
      "           Accuracy - Train: 0.92764,            Accuracy - Train: 0.91361 \n",
      "\n",
      "Alpha = 0.047 \n",
      "           Accuracy - Train: 0.92760,            Accuracy - Train: 0.91364 \n",
      "\n",
      "Alpha = 0.048 \n",
      "           Accuracy - Train: 0.92756,            Accuracy - Train: 0.91367 \n",
      "\n",
      "Alpha = 0.049 \n",
      "           Accuracy - Train: 0.92752,            Accuracy - Train: 0.91370 \n",
      "\n",
      "Alpha = 0.050 \n",
      "           Accuracy - Train: 0.92748,            Accuracy - Train: 0.91373 \n",
      "\n",
      "Alpha = 0.051 \n",
      "           Accuracy - Train: 0.92744,            Accuracy - Train: 0.91376 \n",
      "\n",
      "Alpha = 0.052 \n",
      "           Accuracy - Train: 0.92740,            Accuracy - Train: 0.91378 \n",
      "\n",
      "Alpha = 0.053 \n",
      "           Accuracy - Train: 0.92736,            Accuracy - Train: 0.91381 \n",
      "\n",
      "Alpha = 0.054 \n",
      "           Accuracy - Train: 0.92731,            Accuracy - Train: 0.91383 \n",
      "\n",
      "Alpha = 0.055 \n",
      "           Accuracy - Train: 0.92727,            Accuracy - Train: 0.91385 \n",
      "\n",
      "Alpha = 0.056 \n",
      "           Accuracy - Train: 0.92722,            Accuracy - Train: 0.91388 \n",
      "\n",
      "Alpha = 0.057 \n",
      "           Accuracy - Train: 0.92718,            Accuracy - Train: 0.91390 \n",
      "\n",
      "Alpha = 0.058 \n",
      "           Accuracy - Train: 0.92713,            Accuracy - Train: 0.91392 \n",
      "\n",
      "Alpha = 0.059 \n",
      "           Accuracy - Train: 0.92708,            Accuracy - Train: 0.91394 \n",
      "\n",
      "Alpha = 0.060 \n",
      "           Accuracy - Train: 0.92703,            Accuracy - Train: 0.91395 \n",
      "\n",
      "Alpha = 0.061 \n",
      "           Accuracy - Train: 0.92698,            Accuracy - Train: 0.91397 \n",
      "\n",
      "Alpha = 0.062 \n",
      "           Accuracy - Train: 0.92693,            Accuracy - Train: 0.91399 \n",
      "\n",
      "Alpha = 0.063 \n",
      "           Accuracy - Train: 0.92688,            Accuracy - Train: 0.91400 \n",
      "\n",
      "Alpha = 0.064 \n",
      "           Accuracy - Train: 0.92683,            Accuracy - Train: 0.91402 \n",
      "\n",
      "Alpha = 0.065 \n",
      "           Accuracy - Train: 0.92677,            Accuracy - Train: 0.91403 \n",
      "\n",
      "Alpha = 0.066 \n",
      "           Accuracy - Train: 0.92672,            Accuracy - Train: 0.91404 \n",
      "\n",
      "Alpha = 0.067 \n",
      "           Accuracy - Train: 0.92666,            Accuracy - Train: 0.91405 \n",
      "\n",
      "Alpha = 0.068 \n",
      "           Accuracy - Train: 0.92661,            Accuracy - Train: 0.91406 \n",
      "\n",
      "Alpha = 0.069 \n",
      "           Accuracy - Train: 0.92655,            Accuracy - Train: 0.91407 \n",
      "\n",
      "Alpha = 0.070 \n",
      "           Accuracy - Train: 0.92650,            Accuracy - Train: 0.91408 \n",
      "\n",
      "Alpha = 0.071 \n",
      "           Accuracy - Train: 0.92644,            Accuracy - Train: 0.91409 \n",
      "\n",
      "Alpha = 0.072 \n",
      "           Accuracy - Train: 0.92638,            Accuracy - Train: 0.91409 \n",
      "\n",
      "Alpha = 0.073 \n",
      "           Accuracy - Train: 0.92632,            Accuracy - Train: 0.91410 \n",
      "\n",
      "Alpha = 0.074 \n",
      "           Accuracy - Train: 0.92626,            Accuracy - Train: 0.91410 \n",
      "\n",
      "Alpha = 0.075 \n",
      "           Accuracy - Train: 0.92620,            Accuracy - Train: 0.91411 \n",
      "\n",
      "Alpha = 0.076 \n",
      "           Accuracy - Train: 0.92613,            Accuracy - Train: 0.91411 \n",
      "\n",
      "Alpha = 0.077 \n",
      "           Accuracy - Train: 0.92607,            Accuracy - Train: 0.91411 \n",
      "\n",
      "Alpha = 0.078 \n",
      "           Accuracy - Train: 0.92601,            Accuracy - Train: 0.91411 \n",
      "\n",
      "Alpha = 0.079 \n",
      "           Accuracy - Train: 0.92594,            Accuracy - Train: 0.91411 \n",
      "\n",
      "Alpha = 0.080 \n",
      "           Accuracy - Train: 0.92588,            Accuracy - Train: 0.91411 \n",
      "\n",
      "Alpha = 0.081 \n",
      "           Accuracy - Train: 0.92581,            Accuracy - Train: 0.91411 \n",
      "\n",
      "Alpha = 0.082 \n",
      "           Accuracy - Train: 0.92574,            Accuracy - Train: 0.91411 \n",
      "\n",
      "Alpha = 0.083 \n",
      "           Accuracy - Train: 0.92568,            Accuracy - Train: 0.91410 \n",
      "\n",
      "Alpha = 0.084 \n",
      "           Accuracy - Train: 0.92561,            Accuracy - Train: 0.91410 \n",
      "\n",
      "Alpha = 0.085 \n",
      "           Accuracy - Train: 0.92554,            Accuracy - Train: 0.91409 \n",
      "\n",
      "Alpha = 0.086 \n",
      "           Accuracy - Train: 0.92547,            Accuracy - Train: 0.91409 \n",
      "\n",
      "Alpha = 0.087 \n",
      "           Accuracy - Train: 0.92540,            Accuracy - Train: 0.91408 \n",
      "\n",
      "Alpha = 0.088 \n",
      "           Accuracy - Train: 0.92532,            Accuracy - Train: 0.91407 \n",
      "\n",
      "Alpha = 0.089 \n",
      "           Accuracy - Train: 0.92525,            Accuracy - Train: 0.91406 \n",
      "\n",
      "Alpha = 0.090 \n",
      "           Accuracy - Train: 0.92518,            Accuracy - Train: 0.91405 \n",
      "\n",
      "Alpha = 0.091 \n",
      "           Accuracy - Train: 0.92510,            Accuracy - Train: 0.91404 \n",
      "\n",
      "Alpha = 0.092 \n",
      "           Accuracy - Train: 0.92503,            Accuracy - Train: 0.91402 \n",
      "\n",
      "Alpha = 0.093 \n",
      "           Accuracy - Train: 0.92495,            Accuracy - Train: 0.91401 \n",
      "\n",
      "Alpha = 0.094 \n",
      "           Accuracy - Train: 0.92487,            Accuracy - Train: 0.91400 \n",
      "\n",
      "Alpha = 0.095 \n",
      "           Accuracy - Train: 0.92480,            Accuracy - Train: 0.91398 \n",
      "\n",
      "Alpha = 0.096 \n",
      "           Accuracy - Train: 0.92472,            Accuracy - Train: 0.91396 \n",
      "\n",
      "Alpha = 0.097 \n",
      "           Accuracy - Train: 0.92464,            Accuracy - Train: 0.91395 \n",
      "\n",
      "Alpha = 0.098 \n",
      "           Accuracy - Train: 0.92456,            Accuracy - Train: 0.91393 \n",
      "\n",
      "Alpha = 0.099 \n",
      "           Accuracy - Train: 0.92448,            Accuracy - Train: 0.91391 \n",
      "\n"
     ]
    }
   ],
   "source": [
    "for this_alpha in np.arange(0, 0.1, 0.001):\n",
    "    linLasso1 = Lasso(alpha = this_alpha).fit(X_train_scaled, y_train)\n",
    "    train_acc = linLasso1.score(X_train_scaled, y_train)\n",
    "    test_acc  = linLasso1.score(X_test_scaled, y_test)\n",
    "    \n",
    "    print('Alpha = {:.3f} \\n\\\n",
    "           Accuracy - Train: {:.5f}, \\\n",
    "           Accuracy - Train: {:.5f} \\n'\n",
    "          .format(this_alpha, train_acc, test_acc))"
   ]
  },
  {
   "cell_type": "code",
   "execution_count": null,
   "metadata": {},
   "outputs": [],
   "source": []
  },
  {
   "cell_type": "code",
   "execution_count": null,
   "metadata": {},
   "outputs": [],
   "source": []
  },
  {
   "cell_type": "markdown",
   "metadata": {},
   "source": [
    "## PCA"
   ]
  },
  {
   "cell_type": "code",
   "execution_count": 42,
   "metadata": {},
   "outputs": [
    {
     "name": "stdout",
     "output_type": "stream",
     "text": [
      "Explained Variance:  [0.67093955 0.19829349 0.10210391]\n"
     ]
    },
    {
     "data": {
      "text/html": [
       "<div>\n",
       "<style scoped>\n",
       "    .dataframe tbody tr th:only-of-type {\n",
       "        vertical-align: middle;\n",
       "    }\n",
       "\n",
       "    .dataframe tbody tr th {\n",
       "        vertical-align: top;\n",
       "    }\n",
       "\n",
       "    .dataframe thead th {\n",
       "        text-align: right;\n",
       "    }\n",
       "</style>\n",
       "<table border=\"1\" class=\"dataframe\">\n",
       "  <thead>\n",
       "    <tr style=\"text-align: right;\">\n",
       "      <th></th>\n",
       "      <th>comp1</th>\n",
       "      <th>comp2</th>\n",
       "      <th>comp3</th>\n",
       "    </tr>\n",
       "  </thead>\n",
       "  <tbody>\n",
       "    <tr>\n",
       "      <th>0</th>\n",
       "      <td>0.219314</td>\n",
       "      <td>-0.140995</td>\n",
       "      <td>0.012479</td>\n",
       "    </tr>\n",
       "    <tr>\n",
       "      <th>1</th>\n",
       "      <td>0.174304</td>\n",
       "      <td>-0.039465</td>\n",
       "      <td>-0.073098</td>\n",
       "    </tr>\n",
       "    <tr>\n",
       "      <th>2</th>\n",
       "      <td>-0.479469</td>\n",
       "      <td>-0.071964</td>\n",
       "      <td>-0.019581</td>\n",
       "    </tr>\n",
       "    <tr>\n",
       "      <th>3</th>\n",
       "      <td>-0.230714</td>\n",
       "      <td>-0.200442</td>\n",
       "      <td>-0.117765</td>\n",
       "    </tr>\n",
       "    <tr>\n",
       "      <th>4</th>\n",
       "      <td>-0.276081</td>\n",
       "      <td>-0.039161</td>\n",
       "      <td>0.235227</td>\n",
       "    </tr>\n",
       "  </tbody>\n",
       "</table>\n",
       "</div>"
      ],
      "text/plain": [
       "      comp1     comp2     comp3\n",
       "0  0.219314 -0.140995  0.012479\n",
       "1  0.174304 -0.039465 -0.073098\n",
       "2 -0.479469 -0.071964 -0.019581\n",
       "3 -0.230714 -0.200442 -0.117765\n",
       "4 -0.276081 -0.039161  0.235227"
      ]
     },
     "execution_count": 42,
     "metadata": {},
     "output_type": "execute_result"
    }
   ],
   "source": [
    "pca_obj = PCA(n_components=3).fit(X_train_scaled)\n",
    "pca_train = pca_obj.transform(X_train_scaled)\n",
    "\n",
    "print('Explained Variance: ', pca_obj.explained_variance_ratio_)\n",
    "\n",
    "principalDf1 = pd.DataFrame(data = pca_train, columns = ['comp1', 'comp2','comp3'])\n",
    "principalDf1.head()"
   ]
  },
  {
   "cell_type": "code",
   "execution_count": 45,
   "metadata": {},
   "outputs": [
    {
     "name": "stdout",
     "output_type": "stream",
     "text": [
      "Explained Variance:  [0.67093955 0.19829349 0.10210391]\n"
     ]
    },
    {
     "data": {
      "text/html": [
       "<div>\n",
       "<style scoped>\n",
       "    .dataframe tbody tr th:only-of-type {\n",
       "        vertical-align: middle;\n",
       "    }\n",
       "\n",
       "    .dataframe tbody tr th {\n",
       "        vertical-align: top;\n",
       "    }\n",
       "\n",
       "    .dataframe thead th {\n",
       "        text-align: right;\n",
       "    }\n",
       "</style>\n",
       "<table border=\"1\" class=\"dataframe\">\n",
       "  <thead>\n",
       "    <tr style=\"text-align: right;\">\n",
       "      <th></th>\n",
       "      <th>comp1</th>\n",
       "      <th>comp2</th>\n",
       "      <th>comp3</th>\n",
       "    </tr>\n",
       "  </thead>\n",
       "  <tbody>\n",
       "    <tr>\n",
       "      <th>0</th>\n",
       "      <td>0.219314</td>\n",
       "      <td>-0.140995</td>\n",
       "      <td>0.012479</td>\n",
       "    </tr>\n",
       "    <tr>\n",
       "      <th>1</th>\n",
       "      <td>0.174304</td>\n",
       "      <td>-0.039465</td>\n",
       "      <td>-0.073098</td>\n",
       "    </tr>\n",
       "    <tr>\n",
       "      <th>2</th>\n",
       "      <td>-0.479469</td>\n",
       "      <td>-0.071964</td>\n",
       "      <td>-0.019581</td>\n",
       "    </tr>\n",
       "    <tr>\n",
       "      <th>3</th>\n",
       "      <td>-0.230714</td>\n",
       "      <td>-0.200442</td>\n",
       "      <td>-0.117765</td>\n",
       "    </tr>\n",
       "    <tr>\n",
       "      <th>4</th>\n",
       "      <td>-0.276081</td>\n",
       "      <td>-0.039161</td>\n",
       "      <td>0.235227</td>\n",
       "    </tr>\n",
       "  </tbody>\n",
       "</table>\n",
       "</div>"
      ],
      "text/plain": [
       "      comp1     comp2     comp3\n",
       "0  0.219314 -0.140995  0.012479\n",
       "1  0.174304 -0.039465 -0.073098\n",
       "2 -0.479469 -0.071964 -0.019581\n",
       "3 -0.230714 -0.200442 -0.117765\n",
       "4 -0.276081 -0.039161  0.235227"
      ]
     },
     "execution_count": 45,
     "metadata": {},
     "output_type": "execute_result"
    }
   ],
   "source": [
    "################# OR ##################\n",
    "pca = PCA(n_components=3)\n",
    "prin_comp = pca.fit_transform(X_train_scaled)\n",
    "\n",
    "print('Explained Variance: ', pca.explained_variance_ratio_)\n",
    "\n",
    "principalDf2 = pd.DataFrame(data = prin_comp, columns = ['comp1', 'comp2','comp3'])\n",
    "principalDf2.head()"
   ]
  },
  {
   "cell_type": "code",
   "execution_count": 40,
   "metadata": {},
   "outputs": [
    {
     "data": {
      "text/html": [
       "<div>\n",
       "<style scoped>\n",
       "    .dataframe tbody tr th:only-of-type {\n",
       "        vertical-align: middle;\n",
       "    }\n",
       "\n",
       "    .dataframe tbody tr th {\n",
       "        vertical-align: top;\n",
       "    }\n",
       "\n",
       "    .dataframe thead th {\n",
       "        text-align: right;\n",
       "    }\n",
       "</style>\n",
       "<table border=\"1\" class=\"dataframe\">\n",
       "  <thead>\n",
       "    <tr style=\"text-align: right;\">\n",
       "      <th></th>\n",
       "      <th>comp1</th>\n",
       "      <th>comp2</th>\n",
       "      <th>comp3</th>\n",
       "      <th>PE</th>\n",
       "    </tr>\n",
       "  </thead>\n",
       "  <tbody>\n",
       "    <tr>\n",
       "      <th>0</th>\n",
       "      <td>0.219314</td>\n",
       "      <td>-0.140995</td>\n",
       "      <td>0.012479</td>\n",
       "      <td>463.26</td>\n",
       "    </tr>\n",
       "    <tr>\n",
       "      <th>1</th>\n",
       "      <td>0.174304</td>\n",
       "      <td>-0.039465</td>\n",
       "      <td>-0.073098</td>\n",
       "      <td>444.37</td>\n",
       "    </tr>\n",
       "    <tr>\n",
       "      <th>2</th>\n",
       "      <td>-0.479469</td>\n",
       "      <td>-0.071964</td>\n",
       "      <td>-0.019581</td>\n",
       "      <td>488.56</td>\n",
       "    </tr>\n",
       "    <tr>\n",
       "      <th>3</th>\n",
       "      <td>-0.230714</td>\n",
       "      <td>-0.200442</td>\n",
       "      <td>-0.117765</td>\n",
       "      <td>446.48</td>\n",
       "    </tr>\n",
       "    <tr>\n",
       "      <th>4</th>\n",
       "      <td>-0.276081</td>\n",
       "      <td>-0.039161</td>\n",
       "      <td>0.235227</td>\n",
       "      <td>473.90</td>\n",
       "    </tr>\n",
       "  </tbody>\n",
       "</table>\n",
       "</div>"
      ],
      "text/plain": [
       "      comp1     comp2     comp3      PE\n",
       "0  0.219314 -0.140995  0.012479  463.26\n",
       "1  0.174304 -0.039465 -0.073098  444.37\n",
       "2 -0.479469 -0.071964 -0.019581  488.56\n",
       "3 -0.230714 -0.200442 -0.117765  446.48\n",
       "4 -0.276081 -0.039161  0.235227  473.90"
      ]
     },
     "execution_count": 40,
     "metadata": {},
     "output_type": "execute_result"
    }
   ],
   "source": [
    "finalDf = pd.concat([principalDf2, data[['PE']]], axis = 1)\n",
    "finalDf.head()"
   ]
  },
  {
   "cell_type": "code",
   "execution_count": null,
   "metadata": {},
   "outputs": [],
   "source": []
  },
  {
   "cell_type": "code",
   "execution_count": null,
   "metadata": {},
   "outputs": [],
   "source": []
  },
  {
   "cell_type": "code",
   "execution_count": null,
   "metadata": {},
   "outputs": [],
   "source": []
  },
  {
   "cell_type": "code",
   "execution_count": null,
   "metadata": {},
   "outputs": [],
   "source": []
  }
 ],
 "metadata": {
  "kernelspec": {
   "display_name": "Python 3",
   "language": "python",
   "name": "python3"
  },
  "language_info": {
   "codemirror_mode": {
    "name": "ipython",
    "version": 3
   },
   "file_extension": ".py",
   "mimetype": "text/x-python",
   "name": "python",
   "nbconvert_exporter": "python",
   "pygments_lexer": "ipython3",
   "version": "3.6.5"
  }
 },
 "nbformat": 4,
 "nbformat_minor": 2
}
